{
 "cells": [
  {
   "cell_type": "markdown",
   "metadata": {},
   "source": [
    "Nguyen Thanh Kiet - 1712546"
   ]
  },
  {
   "cell_type": "markdown",
   "metadata": {},
   "source": [
    "# Lấy dữ liệu"
   ]
  },
  {
   "cell_type": "markdown",
   "metadata": {},
   "source": [
    "## Chủ đề và nguồn dữ liệu"
   ]
  },
  {
   "cell_type": "markdown",
   "metadata": {},
   "source": [
    "Dữ liệu được dùng trong đồ án là file 'suicide.csv' đính kèm, đâu là dữ liệu về trường hợp tử tự của một số nước trên thế giới trong khoảng thời gian từ năm 1985 đến năm 2016. Dữ liệu này được public ở trên kaggle.com, một trang web chia sẻ dữ liệu và trao đổi kiến thức về các lĩnh vực như Data Science, Machine Learning,... với mục đích là để tìm ra những thông tin hữu ích giúp ngăn ngừa tình trạng tự sát trên toàn cầu."
   ]
  },
  {
   "cell_type": "markdown",
   "metadata": {},
   "source": [
    "## Giấy phép của dữ liệu"
   ]
  },
  {
   "cell_type": "markdown",
   "metadata": {},
   "source": [
    "Dữ liệu này có license là CC By 4.0, do đó dữ liệu này thể sử dụng dữ liệu này phục vụ cho mục đích học tập."
   ]
  },
  {
   "cell_type": "markdown",
   "metadata": {},
   "source": [
    "## Cách thu thập dữ liệu"
   ]
  },
  {
   "cell_type": "markdown",
   "metadata": {},
   "source": [
    "Dữ liệu được thu thập và tổng hợp theo thời gian và địa điểm, từ 3 nguồn dữ liệu khác nhau:\n",
    "- Chương trình phát triển Liên hiệp quốc, chỉ số phát triển con người (HDI) (2018): http://hdr.undp.org/en/indicators/137506\n",
    "- Ngân hàng thế giới World Bank với chỉ số GDP của các nước từ năm 1985 đến 2016 (2018): https://databank.worldbank.org/source/world-development-indicators\n",
    "- Mục phòng chống tự tử của Tổ chức y tế thế giới WHO (2018): https://www.who.int/health-topics/suicide#tab=tab_1\n"
   ]
  },
  {
   "cell_type": "markdown",
   "metadata": {},
   "source": [
    "# Khám phá dữ liệu"
   ]
  },
  {
   "cell_type": "markdown",
   "metadata": {},
   "source": [
    "## Đọc dữ liệu từ file csv vào dataframe"
   ]
  },
  {
   "cell_type": "code",
   "execution_count": 1,
   "metadata": {},
   "outputs": [],
   "source": [
    "import pandas as pd\n",
    "import numpy as np\n",
    "import matplotlib.pyplot as plt\n",
    "import warnings\n",
    "warnings.simplefilter(action='ignore', category=FutureWarning)"
   ]
  },
  {
   "cell_type": "code",
   "execution_count": 2,
   "metadata": {},
   "outputs": [
    {
     "data": {
      "text/html": [
       "<div>\n",
       "<style scoped>\n",
       "    .dataframe tbody tr th:only-of-type {\n",
       "        vertical-align: middle;\n",
       "    }\n",
       "\n",
       "    .dataframe tbody tr th {\n",
       "        vertical-align: top;\n",
       "    }\n",
       "\n",
       "    .dataframe thead th {\n",
       "        text-align: right;\n",
       "    }\n",
       "</style>\n",
       "<table border=\"1\" class=\"dataframe\">\n",
       "  <thead>\n",
       "    <tr style=\"text-align: right;\">\n",
       "      <th></th>\n",
       "      <th>country</th>\n",
       "      <th>year</th>\n",
       "      <th>sex</th>\n",
       "      <th>age</th>\n",
       "      <th>suicides_no</th>\n",
       "      <th>population</th>\n",
       "      <th>suicides/100k pop</th>\n",
       "      <th>country-year</th>\n",
       "      <th>HDI for year</th>\n",
       "      <th>gdp_for_year ($)</th>\n",
       "      <th>gdp_per_capita ($)</th>\n",
       "      <th>generation</th>\n",
       "      <th>continent</th>\n",
       "    </tr>\n",
       "  </thead>\n",
       "  <tbody>\n",
       "    <tr>\n",
       "      <td>0</td>\n",
       "      <td>Albania</td>\n",
       "      <td>1987</td>\n",
       "      <td>male</td>\n",
       "      <td>15-24 years</td>\n",
       "      <td>21</td>\n",
       "      <td>312900</td>\n",
       "      <td>6.71</td>\n",
       "      <td>Albania1987</td>\n",
       "      <td>NaN</td>\n",
       "      <td>2156624900</td>\n",
       "      <td>796</td>\n",
       "      <td>Generation X</td>\n",
       "      <td>Europe</td>\n",
       "    </tr>\n",
       "    <tr>\n",
       "      <td>1</td>\n",
       "      <td>Albania</td>\n",
       "      <td>1987</td>\n",
       "      <td>male</td>\n",
       "      <td>35-54 years</td>\n",
       "      <td>16</td>\n",
       "      <td>308000</td>\n",
       "      <td>5.19</td>\n",
       "      <td>Albania1987</td>\n",
       "      <td>NaN</td>\n",
       "      <td>2156624900</td>\n",
       "      <td>796</td>\n",
       "      <td>Silent</td>\n",
       "      <td>Europe</td>\n",
       "    </tr>\n",
       "    <tr>\n",
       "      <td>2</td>\n",
       "      <td>Albania</td>\n",
       "      <td>1987</td>\n",
       "      <td>female</td>\n",
       "      <td>15-24 years</td>\n",
       "      <td>14</td>\n",
       "      <td>289700</td>\n",
       "      <td>4.83</td>\n",
       "      <td>Albania1987</td>\n",
       "      <td>NaN</td>\n",
       "      <td>2156624900</td>\n",
       "      <td>796</td>\n",
       "      <td>Generation X</td>\n",
       "      <td>Europe</td>\n",
       "    </tr>\n",
       "    <tr>\n",
       "      <td>3</td>\n",
       "      <td>Albania</td>\n",
       "      <td>1987</td>\n",
       "      <td>male</td>\n",
       "      <td>75+ years</td>\n",
       "      <td>1</td>\n",
       "      <td>21800</td>\n",
       "      <td>4.59</td>\n",
       "      <td>Albania1987</td>\n",
       "      <td>NaN</td>\n",
       "      <td>2156624900</td>\n",
       "      <td>796</td>\n",
       "      <td>G.I. Generation</td>\n",
       "      <td>Europe</td>\n",
       "    </tr>\n",
       "    <tr>\n",
       "      <td>4</td>\n",
       "      <td>Albania</td>\n",
       "      <td>1987</td>\n",
       "      <td>male</td>\n",
       "      <td>25-34 years</td>\n",
       "      <td>9</td>\n",
       "      <td>274300</td>\n",
       "      <td>3.28</td>\n",
       "      <td>Albania1987</td>\n",
       "      <td>NaN</td>\n",
       "      <td>2156624900</td>\n",
       "      <td>796</td>\n",
       "      <td>Boomers</td>\n",
       "      <td>Europe</td>\n",
       "    </tr>\n",
       "  </tbody>\n",
       "</table>\n",
       "</div>"
      ],
      "text/plain": [
       "   country  year     sex          age  suicides_no  population  \\\n",
       "0  Albania  1987    male  15-24 years           21      312900   \n",
       "1  Albania  1987    male  35-54 years           16      308000   \n",
       "2  Albania  1987  female  15-24 years           14      289700   \n",
       "3  Albania  1987    male    75+ years            1       21800   \n",
       "4  Albania  1987    male  25-34 years            9      274300   \n",
       "\n",
       "   suicides/100k pop country-year  HDI for year  gdp_for_year ($)  \\\n",
       "0               6.71  Albania1987           NaN        2156624900   \n",
       "1               5.19  Albania1987           NaN        2156624900   \n",
       "2               4.83  Albania1987           NaN        2156624900   \n",
       "3               4.59  Albania1987           NaN        2156624900   \n",
       "4               3.28  Albania1987           NaN        2156624900   \n",
       "\n",
       "   gdp_per_capita ($)       generation continent  \n",
       "0                 796     Generation X    Europe  \n",
       "1                 796           Silent    Europe  \n",
       "2                 796     Generation X    Europe  \n",
       "3                 796  G.I. Generation    Europe  \n",
       "4                 796          Boomers    Europe  "
      ]
     },
     "execution_count": 2,
     "metadata": {},
     "output_type": "execute_result"
    }
   ],
   "source": [
    "data = pd.read_csv('suicide.csv')\n",
    "data.head()"
   ]
  },
  {
   "cell_type": "markdown",
   "metadata": {
    "heading_collapsed": true
   },
   "source": [
    "## Dữ liệu gồm có bao nhiêu dòng? Bao nhiêu cột?"
   ]
  },
  {
   "cell_type": "code",
   "execution_count": 3,
   "metadata": {
    "hidden": true
   },
   "outputs": [
    {
     "data": {
      "text/plain": [
       "(27820, 13)"
      ]
     },
     "execution_count": 3,
     "metadata": {},
     "output_type": "execute_result"
    }
   ],
   "source": [
    "data.shape"
   ]
  },
  {
   "cell_type": "markdown",
   "metadata": {
    "hidden": true
   },
   "source": [
    "Dữ liệu này gồm có 27820 dòng và 13 cột"
   ]
  },
  {
   "cell_type": "markdown",
   "metadata": {
    "heading_collapsed": true
   },
   "source": [
    "## Mỗi dòng và mỗi cột có ý nghĩa gì?"
   ]
  },
  {
   "cell_type": "markdown",
   "metadata": {
    "hidden": true
   },
   "source": [
    "Mỗi cột của dữ liệu có ý nghĩa như sau:\n",
    "- **country**: quốc gia\n",
    "- **year**: năm xảy ra vụ tự sát\n",
    "- **sex**: giới tính của người tự sát\n",
    "- **age**: nhóm độ tuổi của người tự sát\n",
    "- **suicides_no**: số lượng vụ tự sát (phân theo nhóm tuổi, giới tính, thế hệ)\n",
    "- **population**: số lượng người dân phân theo nhóm tuổi, giới tính, thế hệ\n",
    "- **suicides/100k pop**: số vụ tự sát mỗi 100 nghìn người (được tính từ cột suicides_no và population)\n",
    "- **country-year**: được ghép từ cột country và cột year\n",
    "- **HDI for year**: chỉ số phát triển con người (Human development index) của quốc gia trong một năm cụ thể\n",
    "- **gdp_for_year**: GDP của quốc gia trong một năm cụ thể\n",
    "- **gdp_per_capita**: GDP trên đầu người của quốc gia\n",
    "- **generation**: Nhóm thế hệ người, (vd: Silent: Thế hệ im lặng, sinh năm 1925 - 1945)\n",
    "- **continent**: Châu lục của quốc gia này trực thuộc\n",
    "\n",
    "Từ quan sát ở biến 'data', thì mỗi dòng của dữ liệu đại diện cho một nhóm người (phân theo độ tuổi, quốc gia, giới tính,...)"
   ]
  },
  {
   "cell_type": "markdown",
   "metadata": {},
   "source": [
    "## Mỗi cột có dtype là gì?"
   ]
  },
  {
   "cell_type": "code",
   "execution_count": 4,
   "metadata": {},
   "outputs": [
    {
     "data": {
      "text/plain": [
       "country                object\n",
       "year                    int64\n",
       "sex                    object\n",
       "age                    object\n",
       "suicides_no             int64\n",
       "population              int64\n",
       "suicides/100k pop     float64\n",
       "country-year           object\n",
       "HDI for year          float64\n",
       "gdp_for_year ($)        int64\n",
       "gdp_per_capita ($)      int64\n",
       "generation             object\n",
       "continent              object\n",
       "dtype: object"
      ]
     },
     "execution_count": 4,
     "metadata": {},
     "output_type": "execute_result"
    }
   ],
   "source": [
    "data.dtypes"
   ]
  },
  {
   "cell_type": "markdown",
   "metadata": {},
   "source": [
    "### Kiểm tra các cột có dtype là object"
   ]
  },
  {
   "cell_type": "code",
   "execution_count": 5,
   "metadata": {},
   "outputs": [
    {
     "data": {
      "text/plain": [
       "Index(['country', 'sex', 'age', 'country-year', 'generation', 'continent'], dtype='object')"
      ]
     },
     "execution_count": 5,
     "metadata": {},
     "output_type": "execute_result"
    }
   ],
   "source": [
    "obj_columns = data.dtypes.index[data.dtypes == 'object']\n",
    "obj_columns"
   ]
  },
  {
   "cell_type": "markdown",
   "metadata": {},
   "source": [
    "#### Kiểm tra xem trong các cột dữ liệu này có bị thiếu dữ liệu hay không?"
   ]
  },
  {
   "cell_type": "code",
   "execution_count": 6,
   "metadata": {},
   "outputs": [
    {
     "data": {
      "text/plain": [
       "country         False\n",
       "sex             False\n",
       "age             False\n",
       "country-year    False\n",
       "generation      False\n",
       "continent       False\n",
       "dtype: bool"
      ]
     },
     "execution_count": 6,
     "metadata": {},
     "output_type": "execute_result"
    }
   ],
   "source": [
    "data.loc[:, obj_columns].isnull().any()"
   ]
  },
  {
   "cell_type": "markdown",
   "metadata": {},
   "source": [
    "#### Miền giá trị, số unique value của mỗi cột categorical"
   ]
  },
  {
   "cell_type": "markdown",
   "metadata": {},
   "source": [
    "Số lượng quốc gia được đề cập trong dữ liệu"
   ]
  },
  {
   "cell_type": "code",
   "execution_count": 7,
   "metadata": {},
   "outputs": [
    {
     "data": {
      "text/plain": [
       "101"
      ]
     },
     "execution_count": 7,
     "metadata": {},
     "output_type": "execute_result"
    }
   ],
   "source": [
    "data['country'].nunique()"
   ]
  },
  {
   "cell_type": "code",
   "execution_count": 8,
   "metadata": {},
   "outputs": [
    {
     "data": {
      "text/plain": [
       "array(['male', 'female'], dtype=object)"
      ]
     },
     "execution_count": 8,
     "metadata": {},
     "output_type": "execute_result"
    }
   ],
   "source": [
    "data['sex'].unique()"
   ]
  },
  {
   "cell_type": "code",
   "execution_count": 9,
   "metadata": {},
   "outputs": [
    {
     "data": {
      "text/plain": [
       "2321"
      ]
     },
     "execution_count": 9,
     "metadata": {},
     "output_type": "execute_result"
    }
   ],
   "source": [
    "data['country-year'].nunique()"
   ]
  },
  {
   "cell_type": "code",
   "execution_count": 10,
   "metadata": {},
   "outputs": [
    {
     "data": {
      "text/plain": [
       "array(['Generation X', 'Silent', 'G.I. Generation', 'Boomers',\n",
       "       'Millenials', 'Generation Z'], dtype=object)"
      ]
     },
     "execution_count": 10,
     "metadata": {},
     "output_type": "execute_result"
    }
   ],
   "source": [
    "data['generation'].unique()"
   ]
  },
  {
   "cell_type": "code",
   "execution_count": 11,
   "metadata": {},
   "outputs": [
    {
     "data": {
      "text/plain": [
       "array(['Europe', 'Americas', 'Asia', 'Oceania', 'Africa',\n",
       "       'Republic of Korea'], dtype=object)"
      ]
     },
     "execution_count": 11,
     "metadata": {},
     "output_type": "execute_result"
    }
   ],
   "source": [
    "data['continent'].unique()"
   ]
  },
  {
   "cell_type": "code",
   "execution_count": 12,
   "metadata": {},
   "outputs": [
    {
     "data": {
      "text/plain": [
       "array(['Republic of Korea'], dtype=object)"
      ]
     },
     "execution_count": 12,
     "metadata": {},
     "output_type": "execute_result"
    }
   ],
   "source": [
    "idx = data['continent'] == 'Republic of Korea'\n",
    "data[idx]['country'].unique()"
   ]
  },
  {
   "cell_type": "markdown",
   "metadata": {},
   "source": [
    "#### Nhận xét"
   ]
  },
  {
   "cell_type": "markdown",
   "metadata": {},
   "source": [
    "- Có 101 quốc gia, từ năm 1985 đến 2016 là 32 năm, nếu như mỗi quốc gia đều có dữ liệu từ 1985 đến 2016 thì cột này phải có 3232 unique value, trên thực tế nó chỉ có 2321 cho nên có thể có một số quốc gia chỉ có dữ liệu của vài năm\n",
    "- Cột 'continent' có một dữ liệu ngoại lệ là 'Republic of Korea' tương ứng với quốc gia Hàn Quốc, có thể trong quá trình thu thập dữ liệu, thì giá trị của cột 'continent' được tính từ cột 'country' thông qua hàm countrycode(), và hàm này thì không trả về 'Asia' cho gía trị 'Republic of Korea'. Vì chỉ có một quốc gia gặp phải trường hợp này nên ta chỉ đơn giản sửa lại 'continent' là 'Asian'\n",
    "- Các cột có dtype = object đều là dữ liệu dạng categorical"
   ]
  },
  {
   "cell_type": "markdown",
   "metadata": {},
   "source": [
    "### Kiểm tra các dữ liệu số"
   ]
  },
  {
   "cell_type": "code",
   "execution_count": 13,
   "metadata": {},
   "outputs": [
    {
     "data": {
      "text/plain": [
       "Index(['year', 'suicides_no', 'population', 'suicides/100k pop',\n",
       "       'HDI for year', 'gdp_for_year ($)', 'gdp_per_capita ($)'],\n",
       "      dtype='object')"
      ]
     },
     "execution_count": 13,
     "metadata": {},
     "output_type": "execute_result"
    }
   ],
   "source": [
    "numeric_columns = data.dtypes.index[data.dtypes != 'object']\n",
    "numeric_columns"
   ]
  },
  {
   "cell_type": "markdown",
   "metadata": {},
   "source": [
    "#### Kiểm tra dữ liệu missing"
   ]
  },
  {
   "cell_type": "code",
   "execution_count": 14,
   "metadata": {},
   "outputs": [
    {
     "data": {
      "text/plain": [
       "year                  False\n",
       "suicides_no           False\n",
       "population            False\n",
       "suicides/100k pop     False\n",
       "HDI for year           True\n",
       "gdp_for_year ($)      False\n",
       "gdp_per_capita ($)    False\n",
       "dtype: bool"
      ]
     },
     "execution_count": 14,
     "metadata": {},
     "output_type": "execute_result"
    }
   ],
   "source": [
    "data.loc[:, numeric_columns].isnull().any()"
   ]
  },
  {
   "cell_type": "markdown",
   "metadata": {},
   "source": [
    "Có bao nhiêu % dữ liệu bị missing trong cột 'HDI for year'"
   ]
  },
  {
   "cell_type": "code",
   "execution_count": 15,
   "metadata": {},
   "outputs": [
    {
     "data": {
      "text/plain": [
       "0.699352983465133"
      ]
     },
     "execution_count": 15,
     "metadata": {},
     "output_type": "execute_result"
    }
   ],
   "source": [
    "np.sum(data['HDI for year'].isnull()) / data.shape[0]"
   ]
  },
  {
   "cell_type": "markdown",
   "metadata": {},
   "source": [
    "#### Miền giá trị của các cột dữ liệu số"
   ]
  },
  {
   "cell_type": "code",
   "execution_count": 16,
   "metadata": {},
   "outputs": [
    {
     "data": {
      "text/html": [
       "<div>\n",
       "<style scoped>\n",
       "    .dataframe tbody tr th:only-of-type {\n",
       "        vertical-align: middle;\n",
       "    }\n",
       "\n",
       "    .dataframe tbody tr th {\n",
       "        vertical-align: top;\n",
       "    }\n",
       "\n",
       "    .dataframe thead th {\n",
       "        text-align: right;\n",
       "    }\n",
       "</style>\n",
       "<table border=\"1\" class=\"dataframe\">\n",
       "  <thead>\n",
       "    <tr style=\"text-align: right;\">\n",
       "      <th></th>\n",
       "      <th>year</th>\n",
       "      <th>suicides_no</th>\n",
       "      <th>population</th>\n",
       "      <th>suicides/100k pop</th>\n",
       "      <th>HDI for year</th>\n",
       "      <th>gdp_for_year ($)</th>\n",
       "      <th>gdp_per_capita ($)</th>\n",
       "    </tr>\n",
       "  </thead>\n",
       "  <tbody>\n",
       "    <tr>\n",
       "      <td>min</td>\n",
       "      <td>1985</td>\n",
       "      <td>0</td>\n",
       "      <td>278</td>\n",
       "      <td>0.00</td>\n",
       "      <td>0.483</td>\n",
       "      <td>46919625</td>\n",
       "      <td>251</td>\n",
       "    </tr>\n",
       "    <tr>\n",
       "      <td>max</td>\n",
       "      <td>2016</td>\n",
       "      <td>22338</td>\n",
       "      <td>43805214</td>\n",
       "      <td>224.97</td>\n",
       "      <td>0.944</td>\n",
       "      <td>18120714000000</td>\n",
       "      <td>126352</td>\n",
       "    </tr>\n",
       "  </tbody>\n",
       "</table>\n",
       "</div>"
      ],
      "text/plain": [
       "     year  suicides_no  population  suicides/100k pop  HDI for year  \\\n",
       "min  1985            0         278               0.00         0.483   \n",
       "max  2016        22338    43805214             224.97         0.944   \n",
       "\n",
       "     gdp_for_year ($)  gdp_per_capita ($)  \n",
       "min          46919625                 251  \n",
       "max    18120714000000              126352  "
      ]
     },
     "execution_count": 16,
     "metadata": {},
     "output_type": "execute_result"
    }
   ],
   "source": [
    "col_ranges_df = data.loc[:, numeric_columns].agg(['min', 'max'])\n",
    "col_ranges_df"
   ]
  },
  {
   "cell_type": "markdown",
   "metadata": {},
   "source": [
    "#### Nhận xét"
   ]
  },
  {
   "cell_type": "markdown",
   "metadata": {},
   "source": [
    "- Các cột dữ liệu số phần lớn không có dữ liệu missing, chỉ có duy nhất một cột 'HDI for year' bị mất và dữ liệu bị thiếu tới 70%. Dựa trên quan sát từ 'data' thì rất khó để biết được lý do dữ liệu tại cột này bị mất, thông tin cột này cũng không quá hữu ích nên ta có thể bỏ nó đi\n",
    "- Dữ liệu cột 'gdp_for_year ($)' có giá trị rất lớn ta có thể cân nhắc scale giá trị về một khoảng phù hợp"
   ]
  },
  {
   "cell_type": "markdown",
   "metadata": {},
   "source": [
    "## Tiền xử lý"
   ]
  },
  {
   "cell_type": "markdown",
   "metadata": {},
   "source": [
    "### Sửa giá trị cột 'continent' của 'Republic of Korea'"
   ]
  },
  {
   "cell_type": "code",
   "execution_count": 18,
   "metadata": {},
   "outputs": [
    {
     "data": {
      "text/plain": [
       "array(['Europe', 'Americas', 'Asia', 'Oceania', 'Africa'], dtype=object)"
      ]
     },
     "execution_count": 18,
     "metadata": {},
     "output_type": "execute_result"
    }
   ],
   "source": [
    "data.loc[idx, 'continent'] = 'Asia'\n",
    "data['continent'].unique()"
   ]
  },
  {
   "cell_type": "markdown",
   "metadata": {},
   "source": [
    "### Xóa cột 'HDI for year'"
   ]
  },
  {
   "cell_type": "code",
   "execution_count": 19,
   "metadata": {
    "scrolled": true
   },
   "outputs": [
    {
     "data": {
      "text/html": [
       "<div>\n",
       "<style scoped>\n",
       "    .dataframe tbody tr th:only-of-type {\n",
       "        vertical-align: middle;\n",
       "    }\n",
       "\n",
       "    .dataframe tbody tr th {\n",
       "        vertical-align: top;\n",
       "    }\n",
       "\n",
       "    .dataframe thead th {\n",
       "        text-align: right;\n",
       "    }\n",
       "</style>\n",
       "<table border=\"1\" class=\"dataframe\">\n",
       "  <thead>\n",
       "    <tr style=\"text-align: right;\">\n",
       "      <th></th>\n",
       "      <th>country</th>\n",
       "      <th>year</th>\n",
       "      <th>sex</th>\n",
       "      <th>age</th>\n",
       "      <th>suicides_no</th>\n",
       "      <th>population</th>\n",
       "      <th>suicides/100k pop</th>\n",
       "      <th>country-year</th>\n",
       "      <th>gdp_for_year ($)</th>\n",
       "      <th>gdp_per_capita ($)</th>\n",
       "      <th>generation</th>\n",
       "      <th>continent</th>\n",
       "    </tr>\n",
       "  </thead>\n",
       "  <tbody>\n",
       "    <tr>\n",
       "      <td>0</td>\n",
       "      <td>Albania</td>\n",
       "      <td>1987</td>\n",
       "      <td>male</td>\n",
       "      <td>15-24 years</td>\n",
       "      <td>21</td>\n",
       "      <td>312900</td>\n",
       "      <td>6.71</td>\n",
       "      <td>Albania1987</td>\n",
       "      <td>2156624900</td>\n",
       "      <td>796</td>\n",
       "      <td>Generation X</td>\n",
       "      <td>Europe</td>\n",
       "    </tr>\n",
       "    <tr>\n",
       "      <td>1</td>\n",
       "      <td>Albania</td>\n",
       "      <td>1987</td>\n",
       "      <td>male</td>\n",
       "      <td>35-54 years</td>\n",
       "      <td>16</td>\n",
       "      <td>308000</td>\n",
       "      <td>5.19</td>\n",
       "      <td>Albania1987</td>\n",
       "      <td>2156624900</td>\n",
       "      <td>796</td>\n",
       "      <td>Silent</td>\n",
       "      <td>Europe</td>\n",
       "    </tr>\n",
       "    <tr>\n",
       "      <td>2</td>\n",
       "      <td>Albania</td>\n",
       "      <td>1987</td>\n",
       "      <td>female</td>\n",
       "      <td>15-24 years</td>\n",
       "      <td>14</td>\n",
       "      <td>289700</td>\n",
       "      <td>4.83</td>\n",
       "      <td>Albania1987</td>\n",
       "      <td>2156624900</td>\n",
       "      <td>796</td>\n",
       "      <td>Generation X</td>\n",
       "      <td>Europe</td>\n",
       "    </tr>\n",
       "  </tbody>\n",
       "</table>\n",
       "</div>"
      ],
      "text/plain": [
       "   country  year     sex          age  suicides_no  population  \\\n",
       "0  Albania  1987    male  15-24 years           21      312900   \n",
       "1  Albania  1987    male  35-54 years           16      308000   \n",
       "2  Albania  1987  female  15-24 years           14      289700   \n",
       "\n",
       "   suicides/100k pop country-year  gdp_for_year ($)  gdp_per_capita ($)  \\\n",
       "0               6.71  Albania1987        2156624900                 796   \n",
       "1               5.19  Albania1987        2156624900                 796   \n",
       "2               4.83  Albania1987        2156624900                 796   \n",
       "\n",
       "     generation continent  \n",
       "0  Generation X    Europe  \n",
       "1        Silent    Europe  \n",
       "2  Generation X    Europe  "
      ]
     },
     "execution_count": 19,
     "metadata": {},
     "output_type": "execute_result"
    }
   ],
   "source": [
    "data = data.drop('HDI for year', axis=1)\n",
    "data.head(3)"
   ]
  },
  {
   "cell_type": "markdown",
   "metadata": {},
   "source": [
    "# Đưa ra câu hỏi cần trả lời"
   ]
  },
  {
   "cell_type": "markdown",
   "metadata": {},
   "source": [
    "Sau khi khám phá và tìm hiểu dữ liệu, có một số câu hỏi có thể trả lời từ dữ liệu như sau:\n",
    "- Số lượng các vụ tự sát thay đổi như thế nào theo từng năm (cho toàn thế giới và cho từng châu lục)?\n",
    "- Đối tượng nào có tỉ lệ tự sát cao nhất, thấp nhất (theo độ tuổi, giới tính)?\n",
    "- Châu lục nào có nhiều vụ tự sát nhất?\n",
    "- Các quốc gia càng giàu (gdp trên đầu người cao) thì tỉ lệ tự sát có ít hơn hay không?\n",
    "- Các quốc gia nào có tỉ lệ tự sát ngày càng tăng dần trong 20 năm gần đây?"
   ]
  },
  {
   "cell_type": "markdown",
   "metadata": {},
   "source": [
    "Nhìn chung trả lời các câu hỏi này đều hướng đến một mục đích: ngăn chặn tình trạng tự sát. Vì mỗi người có điều kiện sống, tư duy, suy nghĩ, cảm xúc khác nhau theo thời gian, độ tuổi, giới tính,.... Việc nắm bắt được những yếu tố khác nhau đó tác động như thế nào đến người có ý định tự sát sẽ giúp chúng ta hiểu họ hơn nhằm đưa ra những phương án giúp đỡ họ. "
   ]
  },
  {
   "cell_type": "markdown",
   "metadata": {},
   "source": [
    "## Số lượng các vụ tự sát thay đổi như thế nào theo từng năm"
   ]
  },
  {
   "cell_type": "markdown",
   "metadata": {},
   "source": [
    "### Ý nghĩa"
   ]
  },
  {
   "cell_type": "markdown",
   "metadata": {},
   "source": [
    "Việc nắm bắt được số lượng vụ tự sát theo từng năm có thể phần nào đó giúp ích cho những người hoạt động cho những tổ chức phòng chống tự sát biết được rằng các chiến lược của những tổ chức này đưa ra để hạn chế và ngăn chặn có đạt hiệu quả hay không. ..."
   ]
  },
  {
   "cell_type": "markdown",
   "metadata": {
    "heading_collapsed": true
   },
   "source": [
    "### Tiền xử lý"
   ]
  },
  {
   "cell_type": "markdown",
   "metadata": {
    "hidden": true
   },
   "source": [
    "Như đã đề cập ở phần khám phá dữ liệu, có khả năng một số năm có ít số quốc gia cung cấp dữ liệu về số người tự sát tại các quốc gia này. Nếu như có trường hợp đó thì sẽ dẫn đến tổng số lượng vụ tự sát trong một năm sẽ ít hơn rất nhiều so với các năm còn lại. Điều này nếu như không được xử lý sẽ dễ khiến người nhìn vào biểu đồ có những phán đoán, nhìn nhận sai về những gì dữ liệu thực sự muốn thể hiện"
   ]
  },
  {
   "cell_type": "markdown",
   "metadata": {
    "hidden": true
   },
   "source": [
    "Tiền xử lý dữ liệu cho câu hỏi này gồm những bước sau:\n",
    "- Bước 1: Liệt kê số quốc gia đóng góp dữ liệu theo từng năm và lưu vào biến 'ncountries_prov_by_years'\n",
    "- Bước 2: Loại bỏ (nếu có) những năm có quá ít quốc gia đóng góp dữ liệu"
   ]
  },
  {
   "cell_type": "markdown",
   "metadata": {
    "hidden": true
   },
   "source": [
    "#### Liệt kê số quốc gia đóng góp dữ liệu theo từng năm"
   ]
  },
  {
   "cell_type": "code",
   "execution_count": 20,
   "metadata": {
    "hidden": true
   },
   "outputs": [
    {
     "data": {
      "image/png": "[encoded data removed]",
      "text/plain": [
       "<Figure size 720x360 with 1 Axes>"
      ]
     },
     "metadata": {
      "needs_background": "light"
     },
     "output_type": "display_data"
    }
   ],
   "source": [
    "ncountries_prov_by_years = data.groupby('year')['country'].nunique()\n",
    "ax = ncountries_prov_by_years.plot.bar(figsize=(10, 5))\n",
    "ax.set_ylabel('Number of countries')\n",
    "ax.set_title('Number of countries provide data by year');"
   ]
  },
  {
   "cell_type": "markdown",
   "metadata": {
    "hidden": true
   },
   "source": [
    "#### Loại bỏ năm 2016"
   ]
  },
  {
   "cell_type": "markdown",
   "metadata": {
    "hidden": true
   },
   "source": [
    "Ta thấy rằng trong những năm đầu tiên thu thập dữ liệu thì số quốc gia cung cấp dữ liệu cũng ít hơn một chút so với các năm sau này. Tuy nhiên năm 2016 (năm gần nhất) lại có rất ít quốc gia đóng góp dữ liệu (nhỏ hơn 20). Nguyên nhân các tổ chức tổng hợp lại dữ liệu vẫn chưa thu thập đủ dữ liệu trong năm gần nhất. Dù gì thì ta cũng nên loại bỏ các dòng có liên quan đến năm 2016 để giữ tính tổng quát cho dữ liệu"
   ]
  },
  {
   "cell_type": "code",
   "execution_count": 21,
   "metadata": {
    "hidden": true
   },
   "outputs": [
    {
     "data": {
      "text/plain": [
       "False"
      ]
     },
     "execution_count": 21,
     "metadata": {},
     "output_type": "execute_result"
    }
   ],
   "source": [
    "# Xóa đi các dòng có năm là 2016\n",
    "data = data[data['year'] != 2016]\n",
    "\n",
    "# Kiểm tra lại \n",
    "np.isin(data['year'], 2016).any()"
   ]
  },
  {
   "cell_type": "code",
   "execution_count": 22,
   "metadata": {
    "hidden": true
   },
   "outputs": [
    {
     "data": {
      "text/plain": [
       "(27660, 12)"
      ]
     },
     "execution_count": 22,
     "metadata": {},
     "output_type": "execute_result"
    }
   ],
   "source": [
    "# Số dòng sau khi xóa\n",
    "data.shape"
   ]
  },
  {
   "cell_type": "markdown",
   "metadata": {},
   "source": [
    "### Phân tích và trả lời câu hỏi"
   ]
  },
  {
   "cell_type": "markdown",
   "metadata": {},
   "source": [
    "- Bước 1: Tính tổng số lượng vụ tự sát và tổng số dân theo từng năm và lưu vào 'total_suicides_each_year' với index là năm, 2 cột là 'total suicides', 'total pop'\n",
    "- Bước 2: Từ 'total_suicides_each_year' , tính ra số lượng vụ tự sát / 100K người dân bằng cách lấy cột 'total suicides' x 100000 / 'total pop', sau đó lưu vào 1 series 'suicide_rate_each_year' với index là năm\n",
    "- Bước 3: Trực quan hóa dữ liệu bằng line plot"
   ]
  },
  {
   "cell_type": "markdown",
   "metadata": {},
   "source": [
    "#### Tính tổng số lượng vụ tự sát và tổng số dân theo từng năm và lưu vào 'total_suicides_each_year'"
   ]
  },
  {
   "cell_type": "code",
   "execution_count": 23,
   "metadata": {},
   "outputs": [
    {
     "data": {
      "text/html": [
       "<div>\n",
       "<style scoped>\n",
       "    .dataframe tbody tr th:only-of-type {\n",
       "        vertical-align: middle;\n",
       "    }\n",
       "\n",
       "    .dataframe tbody tr th {\n",
       "        vertical-align: top;\n",
       "    }\n",
       "\n",
       "    .dataframe thead th {\n",
       "        text-align: right;\n",
       "    }\n",
       "</style>\n",
       "<table border=\"1\" class=\"dataframe\">\n",
       "  <thead>\n",
       "    <tr style=\"text-align: right;\">\n",
       "      <th></th>\n",
       "      <th>total suicides</th>\n",
       "      <th>total pop</th>\n",
       "    </tr>\n",
       "    <tr>\n",
       "      <th>year</th>\n",
       "      <th></th>\n",
       "      <th></th>\n",
       "    </tr>\n",
       "  </thead>\n",
       "  <tbody>\n",
       "    <tr>\n",
       "      <td>1985</td>\n",
       "      <td>116063</td>\n",
       "      <td>1008600086</td>\n",
       "    </tr>\n",
       "    <tr>\n",
       "      <td>1986</td>\n",
       "      <td>120670</td>\n",
       "      <td>1029909613</td>\n",
       "    </tr>\n",
       "    <tr>\n",
       "      <td>1987</td>\n",
       "      <td>126842</td>\n",
       "      <td>1095029726</td>\n",
       "    </tr>\n",
       "  </tbody>\n",
       "</table>\n",
       "</div>"
      ],
      "text/plain": [
       "      total suicides   total pop\n",
       "year                            \n",
       "1985          116063  1008600086\n",
       "1986          120670  1029909613\n",
       "1987          126842  1095029726"
      ]
     },
     "execution_count": 23,
     "metadata": {},
     "output_type": "execute_result"
    }
   ],
   "source": [
    "# Các cột liên quan đến tác vụ\n",
    "var = ['year', 'suicides_no', 'population']\n",
    "total_suicides_each_year = data.loc[:, var].groupby('year').sum()\n",
    "total_suicides_each_year.rename(columns={'suicides_no':'total suicides', 'population'\n",
    "                                         :'total pop'}, inplace=True)\n",
    "total_suicides_each_year.head(3)"
   ]
  },
  {
   "cell_type": "markdown",
   "metadata": {},
   "source": [
    "#### Tính 'suicide_rate_each_year'"
   ]
  },
  {
   "cell_type": "code",
   "execution_count": 24,
   "metadata": {},
   "outputs": [],
   "source": [
    "suicide_rate_each_year = total_suicides_each_year['total suicides'] * 10**5 / total_suicides_each_year['total pop']"
   ]
  },
  {
   "cell_type": "code",
   "execution_count": 25,
   "metadata": {},
   "outputs": [
    {
     "data": {
      "image/png": "[encoded data removed]",
      "text/plain": [
       "<Figure size 720x432 with 1 Axes>"
      ]
     },
     "metadata": {
      "needs_background": "light"
     },
     "output_type": "display_data"
    }
   ],
   "source": [
    "ax = suicide_rate_each_year.plot.line(figsize=(10, 6), marker='o')\n",
    "ax.set_ylabel('Num suicides / 100K pop')\n",
    "ax.set_title('Trend over time 1985-2015');"
   ]
  },
  {
   "cell_type": "markdown",
   "metadata": {},
   "source": [
    "### Nhận xét:"
   ]
  },
  {
   "cell_type": "markdown",
   "metadata": {},
   "source": [
    "- Tỉ lệ tự sát tăng trong giai đoạn 1985-1995, tỉ lệ đạt đỉnh vào năm 1995\n",
    "- Tỉ lệ tự sát giảm trong giai đoạn 1995-2015\n",
    "\n",
    "Dựa vào kết quả thu được từ biểu đồ, ta có thể thấy các chiến dịch phòng chống tự sát hoặc sự phát triển của ngành tâm lý học đã giúp cho tỉ lệ vụ tự sát giảm dần theo từng năm "
   ]
  },
  {
   "cell_type": "markdown",
   "metadata": {},
   "source": [
    "## Đối tượng nào có tỉ lệ tự sát cao nhất, thấp nhất (theo độ tuổi, giới tính)"
   ]
  },
  {
   "cell_type": "markdown",
   "metadata": {},
   "source": [
    "### Phân tích và trả lời câu hỏi"
   ]
  },
  {
   "cell_type": "markdown",
   "metadata": {},
   "source": [
    "Thay vì sử dụng hàm max, min để có được câu trả lời, ta có thể hiện tỉ lệ tự sát bằng biểu đồ cột theo độ tuổi và giới tính nhằm tìm thêm thông tin về xu hướng của mỗi nhóm đối tượng. Biểu đồ cột sẽ có trục hoành theo độ tuổi, trục tung là tỉ lệ tự sát, mỗi cột sẽ có tỉ trọng về giới tính"
   ]
  },
  {
   "cell_type": "markdown",
   "metadata": {},
   "source": [
    "- **Bước 1**: Tính tổng số lượng vụ tự sát và tổng số dân theo từng độ tuổi giới tính và lưu vào 'tot_sui_by_ages' với index mặc định 4 cột là 'age', 'sex','tot sui', 'tot pop'\n",
    "- **Bước 2**: Tính tỉ lệ tự sát của mỗi giới tính và lưu vào dataframe 'sui_rate_by_ages' bằng cách:\n",
    "    - Bước 2.1: Transform cột 'total pop' thành tổng pop của female và male trong một độ tuổi\n",
    "    - Bước 2.2: Lấy cột 'tot sui' x 10^5 / 'tot pop' và gán vào dataframe 'sui_rate_by_ages'\n",
    "- **Bước 3**: Trực quan hóa bằng stacked bar char, với legend là giới tính"
   ]
  },
  {
   "cell_type": "markdown",
   "metadata": {},
   "source": [
    "#### Bước 1"
   ]
  },
  {
   "cell_type": "code",
   "execution_count": 26,
   "metadata": {},
   "outputs": [
    {
     "data": {
      "text/html": [
       "<div>\n",
       "<style scoped>\n",
       "    .dataframe tbody tr th:only-of-type {\n",
       "        vertical-align: middle;\n",
       "    }\n",
       "\n",
       "    .dataframe tbody tr th {\n",
       "        vertical-align: top;\n",
       "    }\n",
       "\n",
       "    .dataframe thead th {\n",
       "        text-align: right;\n",
       "    }\n",
       "</style>\n",
       "<table border=\"1\" class=\"dataframe\">\n",
       "  <thead>\n",
       "    <tr style=\"text-align: right;\">\n",
       "      <th></th>\n",
       "      <th>age</th>\n",
       "      <th>sex</th>\n",
       "      <th>tot sui</th>\n",
       "      <th>tot pop</th>\n",
       "    </tr>\n",
       "  </thead>\n",
       "  <tbody>\n",
       "    <tr>\n",
       "      <td>0</td>\n",
       "      <td>15-24 years</td>\n",
       "      <td>female</td>\n",
       "      <td>175199</td>\n",
       "      <td>4235352894</td>\n",
       "    </tr>\n",
       "    <tr>\n",
       "      <td>1</td>\n",
       "      <td>15-24 years</td>\n",
       "      <td>male</td>\n",
       "      <td>632148</td>\n",
       "      <td>4387297664</td>\n",
       "    </tr>\n",
       "    <tr>\n",
       "      <td>2</td>\n",
       "      <td>25-34 years</td>\n",
       "      <td>female</td>\n",
       "      <td>208450</td>\n",
       "      <td>4179617213</td>\n",
       "    </tr>\n",
       "  </tbody>\n",
       "</table>\n",
       "</div>"
      ],
      "text/plain": [
       "           age     sex  tot sui     tot pop\n",
       "0  15-24 years  female   175199  4235352894\n",
       "1  15-24 years    male   632148  4387297664\n",
       "2  25-34 years  female   208450  4179617213"
      ]
     },
     "execution_count": 26,
     "metadata": {},
     "output_type": "execute_result"
    }
   ],
   "source": [
    "var = ['age', 'sex', 'suicides_no', 'population']\n",
    "tot_sui_by_ages = data.loc[:, var].groupby(['age', 'sex']).sum()\n",
    "tot_sui_by_ages.rename(columns={'suicides_no':'tot sui', 'population':'tot pop'}, inplace=True)\n",
    "tot_sui_by_ages = tot_sui_by_ages.reset_index()\n",
    "tot_sui_by_ages.head(3)"
   ]
  },
  {
   "cell_type": "markdown",
   "metadata": {},
   "source": [
    "#### Bước 2"
   ]
  },
  {
   "cell_type": "code",
   "execution_count": 27,
   "metadata": {},
   "outputs": [
    {
     "data": {
      "text/html": [
       "<div>\n",
       "<style scoped>\n",
       "    .dataframe tbody tr th:only-of-type {\n",
       "        vertical-align: middle;\n",
       "    }\n",
       "\n",
       "    .dataframe tbody tr th {\n",
       "        vertical-align: top;\n",
       "    }\n",
       "\n",
       "    .dataframe thead th {\n",
       "        text-align: right;\n",
       "    }\n",
       "</style>\n",
       "<table border=\"1\" class=\"dataframe\">\n",
       "  <thead>\n",
       "    <tr style=\"text-align: right;\">\n",
       "      <th></th>\n",
       "      <th>age</th>\n",
       "      <th>sex</th>\n",
       "      <th>tot sui</th>\n",
       "      <th>tot pop</th>\n",
       "    </tr>\n",
       "  </thead>\n",
       "  <tbody>\n",
       "    <tr>\n",
       "      <td>0</td>\n",
       "      <td>15-24 years</td>\n",
       "      <td>female</td>\n",
       "      <td>175199</td>\n",
       "      <td>8622650558</td>\n",
       "    </tr>\n",
       "    <tr>\n",
       "      <td>1</td>\n",
       "      <td>15-24 years</td>\n",
       "      <td>male</td>\n",
       "      <td>632148</td>\n",
       "      <td>8622650558</td>\n",
       "    </tr>\n",
       "    <tr>\n",
       "      <td>2</td>\n",
       "      <td>25-34 years</td>\n",
       "      <td>female</td>\n",
       "      <td>208450</td>\n",
       "      <td>8415461883</td>\n",
       "    </tr>\n",
       "  </tbody>\n",
       "</table>\n",
       "</div>"
      ],
      "text/plain": [
       "           age     sex  tot sui     tot pop\n",
       "0  15-24 years  female   175199  8622650558\n",
       "1  15-24 years    male   632148  8622650558\n",
       "2  25-34 years  female   208450  8415461883"
      ]
     },
     "execution_count": 27,
     "metadata": {},
     "output_type": "execute_result"
    }
   ],
   "source": [
    "new_pop = tot_sui_by_ages.groupby('age')['tot pop'].transform(lambda x: np.sum(x))\n",
    "tot_sui_by_ages['tot pop'] = new_pop\n",
    "tot_sui_by_ages.head(3)"
   ]
  },
  {
   "cell_type": "code",
   "execution_count": 28,
   "metadata": {},
   "outputs": [
    {
     "data": {
      "text/html": [
       "<div>\n",
       "<style scoped>\n",
       "    .dataframe tbody tr th:only-of-type {\n",
       "        vertical-align: middle;\n",
       "    }\n",
       "\n",
       "    .dataframe tbody tr th {\n",
       "        vertical-align: top;\n",
       "    }\n",
       "\n",
       "    .dataframe thead th {\n",
       "        text-align: right;\n",
       "    }\n",
       "</style>\n",
       "<table border=\"1\" class=\"dataframe\">\n",
       "  <thead>\n",
       "    <tr style=\"text-align: right;\">\n",
       "      <th></th>\n",
       "      <th>age</th>\n",
       "      <th>sex</th>\n",
       "      <th>sui per 100K</th>\n",
       "    </tr>\n",
       "  </thead>\n",
       "  <tbody>\n",
       "    <tr>\n",
       "      <td>0</td>\n",
       "      <td>15-24 years</td>\n",
       "      <td>female</td>\n",
       "      <td>2.031846</td>\n",
       "    </tr>\n",
       "    <tr>\n",
       "      <td>1</td>\n",
       "      <td>15-24 years</td>\n",
       "      <td>male</td>\n",
       "      <td>7.331249</td>\n",
       "    </tr>\n",
       "    <tr>\n",
       "      <td>2</td>\n",
       "      <td>25-34 years</td>\n",
       "      <td>female</td>\n",
       "      <td>2.476988</td>\n",
       "    </tr>\n",
       "  </tbody>\n",
       "</table>\n",
       "</div>"
      ],
      "text/plain": [
       "           age     sex  sui per 100K\n",
       "0  15-24 years  female      2.031846\n",
       "1  15-24 years    male      7.331249\n",
       "2  25-34 years  female      2.476988"
      ]
     },
     "execution_count": 28,
     "metadata": {},
     "output_type": "execute_result"
    }
   ],
   "source": [
    "sui_rate_by_ages = tot_sui_by_ages.loc[:, ['age', 'sex']]\n",
    "sui_rate_by_ages['sui per 100K'] = tot_sui_by_ages['tot sui'] / tot_sui_by_ages['tot pop']\n",
    "sui_rate_by_ages['sui per 100K'] *= 10 **5\n",
    "sui_rate_by_ages.head(3)"
   ]
  },
  {
   "cell_type": "markdown",
   "metadata": {},
   "source": [
    "#### Bước 3"
   ]
  },
  {
   "cell_type": "code",
   "execution_count": 29,
   "metadata": {},
   "outputs": [
    {
     "data": {
      "text/html": [
       "<div>\n",
       "<style scoped>\n",
       "    .dataframe tbody tr th:only-of-type {\n",
       "        vertical-align: middle;\n",
       "    }\n",
       "\n",
       "    .dataframe tbody tr th {\n",
       "        vertical-align: top;\n",
       "    }\n",
       "\n",
       "    .dataframe thead tr th {\n",
       "        text-align: left;\n",
       "    }\n",
       "\n",
       "    .dataframe thead tr:last-of-type th {\n",
       "        text-align: right;\n",
       "    }\n",
       "</style>\n",
       "<table border=\"1\" class=\"dataframe\">\n",
       "  <thead>\n",
       "    <tr>\n",
       "      <th></th>\n",
       "      <th colspan=\"2\" halign=\"left\">sui per 100K</th>\n",
       "    </tr>\n",
       "    <tr>\n",
       "      <th>sex</th>\n",
       "      <th>female</th>\n",
       "      <th>male</th>\n",
       "    </tr>\n",
       "    <tr>\n",
       "      <th>age</th>\n",
       "      <th></th>\n",
       "      <th></th>\n",
       "    </tr>\n",
       "  </thead>\n",
       "  <tbody>\n",
       "    <tr>\n",
       "      <td>15-24 years</td>\n",
       "      <td>2.031846</td>\n",
       "      <td>7.331249</td>\n",
       "    </tr>\n",
       "    <tr>\n",
       "      <td>25-34 years</td>\n",
       "      <td>2.476988</td>\n",
       "      <td>10.853736</td>\n",
       "    </tr>\n",
       "    <tr>\n",
       "      <td>35-54 years</td>\n",
       "      <td>3.524433</td>\n",
       "      <td>13.548969</td>\n",
       "    </tr>\n",
       "    <tr>\n",
       "      <td>5-14 years</td>\n",
       "      <td>0.202377</td>\n",
       "      <td>0.419911</td>\n",
       "    </tr>\n",
       "    <tr>\n",
       "      <td>55-74 years</td>\n",
       "      <td>4.890083</td>\n",
       "      <td>13.964070</td>\n",
       "    </tr>\n",
       "    <tr>\n",
       "      <td>75+ years</td>\n",
       "      <td>8.345226</td>\n",
       "      <td>16.198088</td>\n",
       "    </tr>\n",
       "  </tbody>\n",
       "</table>\n",
       "</div>"
      ],
      "text/plain": [
       "            sui per 100K           \n",
       "sex               female       male\n",
       "age                                \n",
       "15-24 years     2.031846   7.331249\n",
       "25-34 years     2.476988  10.853736\n",
       "35-54 years     3.524433  13.548969\n",
       "5-14 years      0.202377   0.419911\n",
       "55-74 years     4.890083  13.964070\n",
       "75+ years       8.345226  16.198088"
      ]
     },
     "execution_count": 29,
     "metadata": {},
     "output_type": "execute_result"
    }
   ],
   "source": [
    "# Đưa dataframe về dạng multi index với index dòng 'age' và column là tỉ lệ tự sát theo giới tính\n",
    "sui_rate_by_ages = sui_rate_by_ages.set_index(['age', 'sex']).unstack()\n",
    "sui_rate_by_ages"
   ]
  },
  {
   "cell_type": "code",
   "execution_count": 30,
   "metadata": {},
   "outputs": [
    {
     "data": {
      "text/html": [
       "<div>\n",
       "<style scoped>\n",
       "    .dataframe tbody tr th:only-of-type {\n",
       "        vertical-align: middle;\n",
       "    }\n",
       "\n",
       "    .dataframe tbody tr th {\n",
       "        vertical-align: top;\n",
       "    }\n",
       "\n",
       "    .dataframe thead th {\n",
       "        text-align: right;\n",
       "    }\n",
       "</style>\n",
       "<table border=\"1\" class=\"dataframe\">\n",
       "  <thead>\n",
       "    <tr style=\"text-align: right;\">\n",
       "      <th>sex</th>\n",
       "      <th>female</th>\n",
       "      <th>male</th>\n",
       "    </tr>\n",
       "    <tr>\n",
       "      <th>age</th>\n",
       "      <th></th>\n",
       "      <th></th>\n",
       "    </tr>\n",
       "  </thead>\n",
       "  <tbody>\n",
       "    <tr>\n",
       "      <td>5-14 years</td>\n",
       "      <td>0.202377</td>\n",
       "      <td>0.419911</td>\n",
       "    </tr>\n",
       "    <tr>\n",
       "      <td>15-24 years</td>\n",
       "      <td>2.031846</td>\n",
       "      <td>7.331249</td>\n",
       "    </tr>\n",
       "    <tr>\n",
       "      <td>25-34 years</td>\n",
       "      <td>2.476988</td>\n",
       "      <td>10.853736</td>\n",
       "    </tr>\n",
       "    <tr>\n",
       "      <td>35-54 years</td>\n",
       "      <td>3.524433</td>\n",
       "      <td>13.548969</td>\n",
       "    </tr>\n",
       "    <tr>\n",
       "      <td>55-74 years</td>\n",
       "      <td>4.890083</td>\n",
       "      <td>13.964070</td>\n",
       "    </tr>\n",
       "    <tr>\n",
       "      <td>75+ years</td>\n",
       "      <td>8.345226</td>\n",
       "      <td>16.198088</td>\n",
       "    </tr>\n",
       "  </tbody>\n",
       "</table>\n",
       "</div>"
      ],
      "text/plain": [
       "sex            female       male\n",
       "age                             \n",
       "5-14 years   0.202377   0.419911\n",
       "15-24 years  2.031846   7.331249\n",
       "25-34 years  2.476988  10.853736\n",
       "35-54 years  3.524433  13.548969\n",
       "55-74 years  4.890083  13.964070\n",
       "75+ years    8.345226  16.198088"
      ]
     },
     "execution_count": 30,
     "metadata": {},
     "output_type": "execute_result"
    }
   ],
   "source": [
    "# Tạo một cột tạm để lưu tổng tỉ lệ tự sát của 2 giới tính\n",
    "sui_rate_by_ages = sui_rate_by_ages.assign(tmp=sui_rate_by_ages.sum(axis=1))\n",
    "\n",
    "# Sắp xếp các dòng theo tổng tỉ lệ tự sát\n",
    "sui_rate_by_ages.sort_values('tmp', inplace=True)\n",
    "\n",
    "# Xóa cột tạm 'tmp' đi\n",
    "sui_rate_by_ages.drop('tmp', axis=1, inplace=True)\n",
    "\n",
    "# Bỏ đi 1 level của column index\n",
    "sui_rate_by_ages.columns = sui_rate_by_ages.columns.droplevel()\n",
    "sui_rate_by_ages"
   ]
  },
  {
   "cell_type": "code",
   "execution_count": 31,
   "metadata": {},
   "outputs": [
    {
     "data": {
      "image/png": "[encoded data removed]",
      "text/plain": [
       "<Figure size 720x432 with 1 Axes>"
      ]
     },
     "metadata": {
      "needs_background": "light"
     },
     "output_type": "display_data"
    }
   ],
   "source": [
    "# Trực quan hóa bằng stacked bar chart\n",
    "ax = sui_rate_by_ages.plot(kind='bar', figsize=(10, 6), \n",
    "                           y=['male', 'female'], rot=0, stacked=True)\n",
    "ax.set_ylabel('Suicides per 100K pop', fontsize=12)\n",
    "ax.set_xlabel('Age', fontsize=12)\n",
    "ax.set_title('Suicides rate by ages and sex', fontsize=14);"
   ]
  },
  {
   "cell_type": "markdown",
   "metadata": {},
   "source": [
    "### Nhận xét:"
   ]
  },
  {
   "cell_type": "markdown",
   "metadata": {},
   "source": [
    "- Độ tuổi 5-14 có tỉ lệ tự sát nhỏ nhất\n",
    "- Độ tuổi 75+, người già có tỉ lệ tự sát cao nhất\n",
    "- Tỉ lệ tự sát tăng dần theo từng lứa tuổi\n",
    "- Ở mỗi độ tuổi thì tỉ lệ đàn ông luôn chiếm phần lớn"
   ]
  },
  {
   "cell_type": "markdown",
   "metadata": {},
   "source": [
    "Từ kết quả trên ta có thể suy đoán được những thông tin như sau:\n",
    "-  Độ tuổi trẻ con có tỉ lệ tự sát nhỏ nhất, điều này cũng dễ hiểu vì độ tuổi này là độ tuổi trẻ em nên nhận thức không giống như người lớn, chúng hồn nhiên ngây thơ hơn nên rất hiếm những trẻ có ý định ghê gớm như tự sát.\n",
    "- Độ tuổi cao thì tỉ lệ tự sát càng cao, và ở độ tuổi cao nhất (trên 75 tuổi) có tỉ lệ tự sát cao nhất. Điều này có thể là do người càng già, càng sống lâu càng cảm thấy cô đơn (vợ/chồng, người thân, bạn bè mất; con cái không quan tâm chăm sóc,...). Cộng thêm với việc không còn khả năng lao động, mất đi động lực sống dẫn tới hậu quả trầm trọng về tâm lý.\n",
    "- Từ dữ liệu, đàn ông chiếm phần lớn tỉ lệ tự sát ở mỗi độ tuổi cũng là kết quả khá bất ngờ, khi mà phái nữ thông thường có tâm lý bất ổn hơn phái nam, nên theo suy đoán ban đầu thì phụ nữ có thể sẽ có những tổn thương về tâm lý sâu sắc hơn, dẫn tới việc nghĩ quẩn nhiều hơn người nam. Tuy nhiên số liệu thu được hoàn toàn ngược lại, tại sao lại có chuyện như vậy? Nhiều nghiên cứu cho thấy nguyên nhân phần lớn là do vai trò của 2 phái trong xã hội khác nhau, và phái nam thường có vai trò áp lực và nặng nề hơn trong xã hội. Gánh nặng về kinh tế, áp lực chăm lo cho gia đình lớn hơn nhiều so với phụ nữ. Đồng thời, theo các chuyên gia tâm lý học thì đa số người nam có lòng tự trọng cao, khi họ có vấn đề về tâm lý họ thường không tìm người giúp đỡ giống như phụ nữ và điều đó khiến cho tình trạng của họ ngày càng trầm trọng"
   ]
  },
  {
   "cell_type": "markdown",
   "metadata": {},
   "source": [
    "## Châu lục nào có tỉ lệ tự sát cao nhất?"
   ]
  },
  {
   "cell_type": "markdown",
   "metadata": {},
   "source": [
    "### Tiền xử lý"
   ]
  },
  {
   "cell_type": "markdown",
   "metadata": {},
   "source": [
    "Trước khi tiến hành phân tích và trả lời câu hỏi này, ta cần biết được là mỗi châu lục có đóng góp dữ liệu như thế nào để tránh sai sót trong lúc quan sát biểu đồ"
   ]
  },
  {
   "cell_type": "markdown",
   "metadata": {},
   "source": [
    "Tiền xử lý gồm các bước như sau:\n",
    "- Bước 1: Tính số lượng quốc gia đóng góp dữ liệu theo mỗi châu lục\n",
    "- Bước 2: Loại bỏ châu lục không có nhiều quốc gia trong việc đóng góp dữ liệu (nếu có)"
   ]
  },
  {
   "cell_type": "markdown",
   "metadata": {},
   "source": [
    "#### Bước 1: Tìm số lượng quốc gia đóng góp dữ liệu theo mỗi châu lục"
   ]
  },
  {
   "cell_type": "code",
   "execution_count": 32,
   "metadata": {},
   "outputs": [
    {
     "data": {
      "text/plain": [
       "continent\n",
       "Africa       4\n",
       "Americas    31\n",
       "Asia        23\n",
       "Europe      38\n",
       "Oceania      4\n",
       "Name: country, dtype: int64"
      ]
     },
     "execution_count": 32,
     "metadata": {},
     "output_type": "execute_result"
    }
   ],
   "source": [
    "data.groupby('continent')['country'].nunique()"
   ]
  },
  {
   "cell_type": "code",
   "execution_count": 33,
   "metadata": {},
   "outputs": [
    {
     "data": {
      "text/plain": [
       "array(['Cabo Verde', 'Mauritius', 'Seychelles', 'South Africa'],\n",
       "      dtype=object)"
      ]
     },
     "execution_count": 33,
     "metadata": {},
     "output_type": "execute_result"
    }
   ],
   "source": [
    "data['country'][data['continent'] == 'Africa'].unique()"
   ]
  },
  {
   "cell_type": "code",
   "execution_count": 34,
   "metadata": {},
   "outputs": [
    {
     "data": {
      "text/plain": [
       "array(['Australia', 'Fiji', 'Kiribati', 'New Zealand'], dtype=object)"
      ]
     },
     "execution_count": 34,
     "metadata": {},
     "output_type": "execute_result"
    }
   ],
   "source": [
    "data['country'][data['continent'] == 'Oceania'].unique()"
   ]
  },
  {
   "cell_type": "markdown",
   "metadata": {},
   "source": [
    "Ta thấy là châu Phi và châu Đại Dương có ít quốc gia đóng góp dữ liệu nhất (4 quốc gia). Tuy nhiên đối với châu Đại Dương thì châu lục này chỉ có 14 thành viên, và các quốc gia đóng góp dữ liệu cho châu Đại Dương đều là các quốc gia lớn ('Australia, 'Fiji', 'New Zealand'). Trong khi châu Phi có tới 54 quốc gia, nhưng chỉ đóng góp có 4 (trong đó chỉ có Nam Phi là một quốc gia đủ lớn, 3 quốc gia còn lại đều là các đảo có diện tích nhỏ tách rời với châu Phi). Do đó trong tác vụ này ta có thể bỏ châu Phi đi."
   ]
  },
  {
   "cell_type": "markdown",
   "metadata": {},
   "source": [
    "#### Bước 2: Loại bỏ các quốc gia châu Phi trong câu hỏi này"
   ]
  },
  {
   "cell_type": "code",
   "execution_count": 35,
   "metadata": {},
   "outputs": [
    {
     "data": {
      "text/plain": [
       "(26820, 12)"
      ]
     },
     "execution_count": 35,
     "metadata": {},
     "output_type": "execute_result"
    }
   ],
   "source": [
    "continent_df = data[data['continent'] != 'Africa']\n",
    "continent_df.shape"
   ]
  },
  {
   "cell_type": "markdown",
   "metadata": {},
   "source": [
    "### Phân tích và trả lời câu hỏi"
   ]
  },
  {
   "cell_type": "markdown",
   "metadata": {},
   "source": [
    "- Bước 1: Thể hiện tỉ lệ tự sát cho từng châu lục bằng bar plot\n",
    "- Bước 2: Tương tự thể hiện tỉ lệ tự sát cho từng quốc gia của châu lục có tỉ lệ tự sát cao nhất. Bước này nhằm tìm kiếm thêm thông tin kiểu như: Các quốc gia trong châu lục đó có tỉ lệ tự sát gần nhau không? Hay có một khu vực nào, quốc gia nào có tỉ lệ cao vượt trội?"
   ]
  },
  {
   "cell_type": "markdown",
   "metadata": {},
   "source": [
    "#### Thể hiện tỉ lệ tự sát cho từng châu lục bằng bar plot"
   ]
  },
  {
   "cell_type": "code",
   "execution_count": 36,
   "metadata": {},
   "outputs": [
    {
     "data": {
      "image/png": "[encoded data removed]",
      "text/plain": [
       "<Figure size 576x432 with 1 Axes>"
      ]
     },
     "metadata": {
      "needs_background": "light"
     },
     "output_type": "display_data"
    }
   ],
   "source": [
    "var = ['continent', 'suicides_no', 'population']\n",
    "tot_sui_by_continent = continent_df.loc[:, var].groupby('continent').sum()\n",
    "sui_rate_by_continent = tot_sui_by_continent['suicides_no'] / tot_sui_by_continent['population']\n",
    "sui_rate_by_continent *= 10**5\n",
    "ax = sui_rate_by_continent.sort_values().plot.bar(figsize=(8, 6), grid=True, rot=0);\n",
    "ax.set_ylabel('Suicides per 100K', fontsize=12)\n",
    "ax.set_xlabel('Continent', fontsize=12)\n",
    "ax.set_title('Suicide rate by continent', fontsize=14);"
   ]
  },
  {
   "cell_type": "markdown",
   "metadata": {},
   "source": [
    "#### Thể hiện tỉ lệ tự sát qua top 10 quốc gia có tỉ lệ tự sát cao nhất châu Âu"
   ]
  },
  {
   "cell_type": "code",
   "execution_count": 37,
   "metadata": {},
   "outputs": [],
   "source": [
    "# Tính tỉ lệ tự sát của các quốc gia châu Âu\n",
    "var = ['country', 'suicides_no', 'population']\n",
    "europe_df = data[data['continent'] == 'Europe']\n",
    "tot_sui_by_euro = europe_df.loc[:, var].groupby('country').sum()\n",
    "sui_rate_by_euro = tot_sui_by_euro['suicides_no'] / tot_sui_by_euro['population']\n",
    "sui_rate_by_euro *= 10**5\n",
    "\n",
    "# Sắp xếp và lấy ra top 10 quốc gia châu Âu có tỉ lệ tự sát cao nhất\n",
    "sui_rate_by_euro = sui_rate_by_euro.sort_values(ascending=False)[:10]\n"
   ]
  },
  {
   "cell_type": "code",
   "execution_count": 38,
   "metadata": {},
   "outputs": [
    {
     "data": {
      "image/png": "[encoded data removed]",
      "text/plain": [
       "<Figure size 864x432 with 1 Axes>"
      ]
     },
     "metadata": {
      "needs_background": "light"
     },
     "output_type": "display_data"
    }
   ],
   "source": [
    "# Đổi 'Russian Federation' thành 'Russia' để dễ trực quan được gọn hơn\n",
    "sui_rate_by_euro.rename(index={'Russian Federation':'Russia'}, inplace=True)\n",
    "\n",
    "# Trực quan hóa bằng bar plot\n",
    "ax = sui_rate_by_euro.plot.bar(figsize=(12, 6), rot=0);\n",
    "ax.set_ylabel('Suicides per 100K', fontsize=12)\n",
    "ax.set_xlabel('Country', fontsize=12)\n",
    "ax.set_title('Top 10 suicide rate in europe', fontsize=14);"
   ]
  },
  {
   "cell_type": "markdown",
   "metadata": {},
   "source": [
    "### Nhận xét:"
   ]
  },
  {
   "cell_type": "markdown",
   "metadata": {},
   "source": [
    "- Châu Âu có tỉ lệ tự sát cao nhất thế giới (lớn hơn 17.5 / 100K dân).\n",
    "- Trong top 10 quốc gia châu Âu có tỉ lệ tự sát cao nhất thì có tới 8 nước thuộc khu vực Đông Âu (top 1 đến top 8)."
   ]
  },
  {
   "cell_type": "markdown",
   "metadata": {},
   "source": [
    "Từ những kết quả trên ta có thể suy đoán như sau:"
   ]
  },
  {
   "cell_type": "markdown",
   "metadata": {},
   "source": [
    "- Châu Âu có độ tuổi trung bình cao nhất thế giới, như ta đã biết thì độ tuổi càng cao thì tỉ lệ tự sát càng cao, nên có thể đây là yếu tố khiến cho châu Âu lại có tỉ lệ tự sát cao nhất\n",
    "- Tuy nhiên khi quan sát trên top 10 quốc gia châu Âu thì đa số (8/10) là các quốc gia Đông Âu, về độ tuổi trung bình thì các quốc gia Đông Âu không thuộc nhóm cao nhất. Điều này có thể là do văn hóa, chính sách của các quốc gia này. Vì phần lớn quốc gia Đông Âu đều được tách ra từ Liên Xô, có thể sau khi Liên Xô tan rã đã làm cho nền kinh tế của các quốc gia này trì trệ (những vấn đề về kinh tế cũng là một phần lý do dẫn đến suy nghĩ tự sát)"
   ]
  },
  {
   "cell_type": "markdown",
   "metadata": {},
   "source": [
    "## Có quốc gia nào tỉ lệ tự sát đang tăng dần trong 20 năm gần đây (1995 - 2015) không?"
   ]
  },
  {
   "cell_type": "markdown",
   "metadata": {},
   "source": [
    "### Phân tích và trả lời câu hỏi"
   ]
  },
  {
   "cell_type": "markdown",
   "metadata": {},
   "source": [
    "Như đã đề cập ở mục 3.1, các vụ tự sát trên thế giới đang có xu hướng giảm dần từ năm 1995. Tuy nhiên ta vẫn chưa đi sâu vào từng quốc gia xem có trường hợp nào mà các biện pháp phòng tránh hiện thời vẫn chưa hoạt động hiệu quả hay không. Ngoài ra câu hỏi này cũng là tiền đề để trả lời cho câu hỏi ở mục sau."
   ]
  },
  {
   "cell_type": "markdown",
   "metadata": {},
   "source": [
    "Để trả lời câu hỏi này cần thực hiện các bước như sau:\n",
    "- Bước 1: Taọ dataframe mới country_df gồm 3 cột country, year và suicide rate (num suicides / 100K pop) với year được lọc từ năm 1995 đến 2015\n",
    "- Bước 2: Tính correlation giữa cột year và suicide rate và lưu vào corr series\n",
    "- Bước 3: Chọn ra các quốc gia có correlation > 0"
   ]
  },
  {
   "cell_type": "markdown",
   "metadata": {},
   "source": [
    "#### Bước 1: Tạo dataframe country_df"
   ]
  },
  {
   "cell_type": "code",
   "execution_count": 39,
   "metadata": {},
   "outputs": [
    {
     "data": {
      "text/html": [
       "<div>\n",
       "<style scoped>\n",
       "    .dataframe tbody tr th:only-of-type {\n",
       "        vertical-align: middle;\n",
       "    }\n",
       "\n",
       "    .dataframe tbody tr th {\n",
       "        vertical-align: top;\n",
       "    }\n",
       "\n",
       "    .dataframe thead th {\n",
       "        text-align: right;\n",
       "    }\n",
       "</style>\n",
       "<table border=\"1\" class=\"dataframe\">\n",
       "  <thead>\n",
       "    <tr style=\"text-align: right;\">\n",
       "      <th></th>\n",
       "      <th>country</th>\n",
       "      <th>year</th>\n",
       "      <th>suicide rate</th>\n",
       "    </tr>\n",
       "  </thead>\n",
       "  <tbody>\n",
       "    <tr>\n",
       "      <td>0</td>\n",
       "      <td>Albania</td>\n",
       "      <td>1995</td>\n",
       "      <td>3.030929</td>\n",
       "    </tr>\n",
       "    <tr>\n",
       "      <td>1</td>\n",
       "      <td>Albania</td>\n",
       "      <td>1996</td>\n",
       "      <td>3.027005</td>\n",
       "    </tr>\n",
       "    <tr>\n",
       "      <td>2</td>\n",
       "      <td>Albania</td>\n",
       "      <td>1997</td>\n",
       "      <td>5.709871</td>\n",
       "    </tr>\n",
       "    <tr>\n",
       "      <td>3</td>\n",
       "      <td>Albania</td>\n",
       "      <td>1998</td>\n",
       "      <td>5.111694</td>\n",
       "    </tr>\n",
       "    <tr>\n",
       "      <td>4</td>\n",
       "      <td>Albania</td>\n",
       "      <td>1999</td>\n",
       "      <td>4.587913</td>\n",
       "    </tr>\n",
       "    <tr>\n",
       "      <td>...</td>\n",
       "      <td>...</td>\n",
       "      <td>...</td>\n",
       "      <td>...</td>\n",
       "    </tr>\n",
       "    <tr>\n",
       "      <td>1723</td>\n",
       "      <td>Uzbekistan</td>\n",
       "      <td>2010</td>\n",
       "      <td>5.707206</td>\n",
       "    </tr>\n",
       "    <tr>\n",
       "      <td>1724</td>\n",
       "      <td>Uzbekistan</td>\n",
       "      <td>2011</td>\n",
       "      <td>6.313022</td>\n",
       "    </tr>\n",
       "    <tr>\n",
       "      <td>1725</td>\n",
       "      <td>Uzbekistan</td>\n",
       "      <td>2012</td>\n",
       "      <td>6.955545</td>\n",
       "    </tr>\n",
       "    <tr>\n",
       "      <td>1726</td>\n",
       "      <td>Uzbekistan</td>\n",
       "      <td>2013</td>\n",
       "      <td>7.265567</td>\n",
       "    </tr>\n",
       "    <tr>\n",
       "      <td>1727</td>\n",
       "      <td>Uzbekistan</td>\n",
       "      <td>2014</td>\n",
       "      <td>7.670198</td>\n",
       "    </tr>\n",
       "  </tbody>\n",
       "</table>\n",
       "<p>1728 rows × 3 columns</p>\n",
       "</div>"
      ],
      "text/plain": [
       "         country  year  suicide rate\n",
       "0        Albania  1995      3.030929\n",
       "1        Albania  1996      3.027005\n",
       "2        Albania  1997      5.709871\n",
       "3        Albania  1998      5.111694\n",
       "4        Albania  1999      4.587913\n",
       "...          ...   ...           ...\n",
       "1723  Uzbekistan  2010      5.707206\n",
       "1724  Uzbekistan  2011      6.313022\n",
       "1725  Uzbekistan  2012      6.955545\n",
       "1726  Uzbekistan  2013      7.265567\n",
       "1727  Uzbekistan  2014      7.670198\n",
       "\n",
       "[1728 rows x 3 columns]"
      ]
     },
     "execution_count": 39,
     "metadata": {},
     "output_type": "execute_result"
    }
   ],
   "source": [
    "# Lọc ra năm 1995-2015\n",
    "var = ['country', 'year', 'suicides_no', 'population']\n",
    "tmp = data[(data['year'] >= 1995) & (data['year'] <= 2015)]\n",
    "\n",
    "# Tính suicide rate\n",
    "tmp = tmp.loc[:, var].groupby(['country', 'year']).sum()\n",
    "country_series = tmp['suicides_no'] * 10**5 / tmp['population']\n",
    "\n",
    "# Tạo \n",
    "country_series.name = 'suicide rate'\n",
    "country_df = country_series.reset_index()\n",
    "country_df"
   ]
  },
  {
   "cell_type": "markdown",
   "metadata": {},
   "source": [
    "#### Bước 2: Tính correlation giữa year và suicide rate cho mỗi quốc gia"
   ]
  },
  {
   "cell_type": "code",
   "execution_count": 40,
   "metadata": {},
   "outputs": [
    {
     "data": {
      "text/html": [
       "<div>\n",
       "<style scoped>\n",
       "    .dataframe tbody tr th:only-of-type {\n",
       "        vertical-align: middle;\n",
       "    }\n",
       "\n",
       "    .dataframe tbody tr th {\n",
       "        vertical-align: top;\n",
       "    }\n",
       "\n",
       "    .dataframe thead th {\n",
       "        text-align: right;\n",
       "    }\n",
       "</style>\n",
       "<table border=\"1\" class=\"dataframe\">\n",
       "  <thead>\n",
       "    <tr style=\"text-align: right;\">\n",
       "      <th></th>\n",
       "      <th></th>\n",
       "      <th>year</th>\n",
       "      <th>suicide rate</th>\n",
       "    </tr>\n",
       "    <tr>\n",
       "      <th>country</th>\n",
       "      <th></th>\n",
       "      <th></th>\n",
       "      <th></th>\n",
       "    </tr>\n",
       "  </thead>\n",
       "  <tbody>\n",
       "    <tr>\n",
       "      <td rowspan=\"2\" valign=\"top\">Albania</td>\n",
       "      <td>year</td>\n",
       "      <td>1.000000</td>\n",
       "      <td>-0.268235</td>\n",
       "    </tr>\n",
       "    <tr>\n",
       "      <td>suicide rate</td>\n",
       "      <td>-0.268235</td>\n",
       "      <td>1.000000</td>\n",
       "    </tr>\n",
       "    <tr>\n",
       "      <td rowspan=\"2\" valign=\"top\">Antigua and Barbuda</td>\n",
       "      <td>year</td>\n",
       "      <td>1.000000</td>\n",
       "      <td>-0.200332</td>\n",
       "    </tr>\n",
       "    <tr>\n",
       "      <td>suicide rate</td>\n",
       "      <td>-0.200332</td>\n",
       "      <td>1.000000</td>\n",
       "    </tr>\n",
       "    <tr>\n",
       "      <td>Argentina</td>\n",
       "      <td>year</td>\n",
       "      <td>1.000000</td>\n",
       "      <td>0.241830</td>\n",
       "    </tr>\n",
       "    <tr>\n",
       "      <td>...</td>\n",
       "      <td>...</td>\n",
       "      <td>...</td>\n",
       "      <td>...</td>\n",
       "    </tr>\n",
       "    <tr>\n",
       "      <td>United States</td>\n",
       "      <td>suicide rate</td>\n",
       "      <td>0.740238</td>\n",
       "      <td>1.000000</td>\n",
       "    </tr>\n",
       "    <tr>\n",
       "      <td rowspan=\"2\" valign=\"top\">Uruguay</td>\n",
       "      <td>year</td>\n",
       "      <td>1.000000</td>\n",
       "      <td>0.548210</td>\n",
       "    </tr>\n",
       "    <tr>\n",
       "      <td>suicide rate</td>\n",
       "      <td>0.548210</td>\n",
       "      <td>1.000000</td>\n",
       "    </tr>\n",
       "    <tr>\n",
       "      <td rowspan=\"2\" valign=\"top\">Uzbekistan</td>\n",
       "      <td>year</td>\n",
       "      <td>1.000000</td>\n",
       "      <td>-0.477464</td>\n",
       "    </tr>\n",
       "    <tr>\n",
       "      <td>suicide rate</td>\n",
       "      <td>-0.477464</td>\n",
       "      <td>1.000000</td>\n",
       "    </tr>\n",
       "  </tbody>\n",
       "</table>\n",
       "<p>194 rows × 2 columns</p>\n",
       "</div>"
      ],
      "text/plain": [
       "                                      year  suicide rate\n",
       "country                                                 \n",
       "Albania             year          1.000000     -0.268235\n",
       "                    suicide rate -0.268235      1.000000\n",
       "Antigua and Barbuda year          1.000000     -0.200332\n",
       "                    suicide rate -0.200332      1.000000\n",
       "Argentina           year          1.000000      0.241830\n",
       "...                                    ...           ...\n",
       "United States       suicide rate  0.740238      1.000000\n",
       "Uruguay             year          1.000000      0.548210\n",
       "                    suicide rate  0.548210      1.000000\n",
       "Uzbekistan          year          1.000000     -0.477464\n",
       "                    suicide rate -0.477464      1.000000\n",
       "\n",
       "[194 rows x 2 columns]"
      ]
     },
     "execution_count": 40,
     "metadata": {},
     "output_type": "execute_result"
    }
   ],
   "source": [
    "country_df.groupby('country')[['year','suicide rate']].corr()"
   ]
  },
  {
   "cell_type": "code",
   "execution_count": 41,
   "metadata": {},
   "outputs": [
    {
     "data": {
      "text/plain": [
       "country\n",
       "Albania                -0.268235\n",
       "Antigua and Barbuda    -0.200332\n",
       "Argentina               0.241830\n",
       "Armenia                 0.066687\n",
       "Aruba                  -0.359986\n",
       "                          ...   \n",
       "United Arab Emirates   -0.883831\n",
       "United Kingdom         -0.022357\n",
       "United States           0.740238\n",
       "Uruguay                 0.548210\n",
       "Uzbekistan             -0.477464\n",
       "Name: suicide rate, Length: 97, dtype: float64"
      ]
     },
     "execution_count": 41,
     "metadata": {},
     "output_type": "execute_result"
    }
   ],
   "source": [
    "country_corr = country_df.groupby('country')[['year','suicide rate']].corr().iloc[0::2, -1]\n",
    "country_corr = country_corr.droplevel(1)\n",
    "country_corr"
   ]
  },
  {
   "cell_type": "markdown",
   "metadata": {},
   "source": [
    "#### Bước 3: Chọn ra các quốc gia có correlation giữa year và suicide rate dương"
   ]
  },
  {
   "cell_type": "code",
   "execution_count": 42,
   "metadata": {},
   "outputs": [
    {
     "data": {
      "text/plain": [
       "34"
      ]
     },
     "execution_count": 42,
     "metadata": {},
     "output_type": "execute_result"
    }
   ],
   "source": [
    "country_corr[country_corr > 0].size"
   ]
  },
  {
   "cell_type": "markdown",
   "metadata": {},
   "source": [
    "Top 10 quốc gia có correlation giữa year và suicide rate lớn"
   ]
  },
  {
   "cell_type": "code",
   "execution_count": 43,
   "metadata": {},
   "outputs": [
    {
     "data": {
      "text/plain": [
       "country\n",
       "Bosnia and Herzegovina    1.000000\n",
       "Mexico                    0.962196\n",
       "Philippines               0.940934\n",
       "Brazil                    0.939307\n",
       "Cyprus                    0.909730\n",
       "Paraguay                  0.905780\n",
       "Republic of Korea         0.900344\n",
       "Suriname                  0.891425\n",
       "South Africa              0.774170\n",
       "Montenegro                0.768602\n",
       "Guatemala                 0.760464\n",
       "United States             0.740238\n",
       "Guyana                    0.734042\n",
       "Portugal                  0.724210\n",
       "Chile                     0.714834\n",
       "Greece                    0.657861\n",
       "Turkey                    0.558553\n",
       "Uruguay                   0.548210\n",
       "Jamaica                   0.524472\n",
       "Malta                     0.478798\n",
       "Name: suicide rate, dtype: float64"
      ]
     },
     "execution_count": 43,
     "metadata": {},
     "output_type": "execute_result"
    }
   ],
   "source": [
    "top_country_corr = country_corr[country_corr > 0].sort_values(ascending=False)[:20]\n",
    "top_country_corr"
   ]
  },
  {
   "cell_type": "markdown",
   "metadata": {},
   "source": [
    "Trong 101 quốc gia cung cấp dữ liệu thì có 34 quốc gia có tỉ lệ tự sát tăng dần. Để quan sát rõ hơn ta lựa chọn 4 quốc gia có correlation lớn nhất (và có đủ dữ liệu từ năm 1995 đến 2015 để trực quan hóa)"
   ]
  },
  {
   "cell_type": "code",
   "execution_count": 44,
   "metadata": {},
   "outputs": [
    {
     "data": {
      "text/plain": [
       "country\n",
       "Mexico               21.0\n",
       "Brazil               21.0\n",
       "Republic of Korea    21.0\n",
       "Guatemala            21.0\n",
       "United States        21.0\n",
       "Chile                21.0\n",
       "Greece               21.0\n",
       "Malta                21.0\n",
       "Name: year, dtype: float64"
      ]
     },
     "execution_count": 44,
     "metadata": {},
     "output_type": "execute_result"
    }
   ],
   "source": [
    "# Chọn ra các quốc gia có đủ dữ liệu từ năm 1995 đến 2015\n",
    "tmp = country_df.groupby('country')['year'].count()\n",
    "tmp = tmp[tmp == 21]\n",
    "\n",
    "# Lấy ra các quốc gia nằm trong top_country_corr\n",
    "tmp[top_country_corr.index].dropna()"
   ]
  },
  {
   "cell_type": "markdown",
   "metadata": {},
   "source": [
    "Ở đây ta lựa chọn 4 quốc gia: Mexico, Brazil, Republic of Korea và United States để quan sát"
   ]
  },
  {
   "cell_type": "code",
   "execution_count": 45,
   "metadata": {},
   "outputs": [
    {
     "data": {
      "image/png": "[encoded data removed]",
      "text/plain": [
       "<Figure size 1080x864 with 4 Axes>"
      ]
     },
     "metadata": {
      "needs_background": "light"
     },
     "output_type": "display_data"
    }
   ],
   "source": [
    "top_countries = ['Mexico', 'Brazil', 'Republic of Korea', 'United States']\n",
    "\n",
    "fig, axes = plt.subplots(nrows=2, ncols=2)\n",
    "fig.text(0.08, 0.5, 'Suicides per 100K', va='center', rotation='vertical', fontsize=14)\n",
    "fig.text(0.5, 0.08, 'Year', ha='center', fontsize=14)\n",
    "i = 0\n",
    "for var in top_countries:\n",
    "    df = country_df[country_df['country'] == var]\n",
    "    ax = df.drop('country', axis=1).set_index('year').plot.line(\n",
    "        figsize=(15, 12), ax=axes[i // 2, i % 2], marker='o', legend=False)\n",
    "    \n",
    "    ax.set_title(var)\n",
    "    ax.set_xlabel('')\n",
    "    if i <= 1:\n",
    "        ax.set_xticks([])\n",
    "    else:\n",
    "        ax.set_xticks(np.arange(1995, 2016, step=2))\n",
    "    i += 1"
   ]
  },
  {
   "cell_type": "markdown",
   "metadata": {},
   "source": [
    "### Nhận xét"
   ]
  },
  {
   "cell_type": "markdown",
   "metadata": {},
   "source": [
    "Tuy rằng trong mục 3.1, nhìn chung thì thế giới có tỉ lệ tự sát giảm dần. Tuy nhiên vẫn còn đó một số quốc gia (khoảng 34 nước) thì tình trạng này vẫn chưa có dấu hiệu thuyên giảm. Đặc biệt nó đang tăng mạnh ở một quốc gia phát triển bậc nhất là nước Mỹ"
   ]
  },
  {
   "cell_type": "markdown",
   "metadata": {},
   "source": [
    "## Các quốc gia càng giàu (GDP cao) thì tỉ lệ tự sát có ít hơn không?"
   ]
  },
  {
   "cell_type": "markdown",
   "metadata": {},
   "source": [
    "### Một số phân tích ban đầu"
   ]
  },
  {
   "cell_type": "markdown",
   "metadata": {},
   "source": [
    "Trước khi trực tiếp đi vào trả lời ngay câu hỏi này thì ta có thể có một thông tin bên lề là: \"Hầu hết các quốc gia đang có GDP đầu người tăng theo năm tháng\""
   ]
  },
  {
   "cell_type": "markdown",
   "metadata": {},
   "source": [
    "Cụ thể thông qua việc tính correlation giữa GDP đầu người 'gdp_per_capita ($)' và 'year' như sau:"
   ]
  },
  {
   "cell_type": "code",
   "execution_count": 46,
   "metadata": {},
   "outputs": [
    {
     "data": {
      "text/plain": [
       "0.8796118241699358"
      ]
     },
     "execution_count": 46,
     "metadata": {},
     "output_type": "execute_result"
    }
   ],
   "source": [
    "gdp_df = data.groupby(['country', 'year'])['gdp_per_capita ($)'].mean().reset_index()\n",
    "gdp_corr = gdp_df.groupby('country')[['year', 'gdp_per_capita ($)']].corr().iloc[0::2, -1]\n",
    "gdp_corr = gdp_corr.droplevel(1)\n",
    "gdp_corr.mean()"
   ]
  },
  {
   "cell_type": "markdown",
   "metadata": {},
   "source": [
    "Trung bình của correlation giữa gdp đầu người và năm các quốc gia trên thế giới là 0.8796. Tức là đa số các quốc gia đều đang \"giàu\" thêm theo năm tháng, và đối chiếu với mục 3.1 thì theo thời gian, tỉ lệ các vụ tự sát giảm xuống. Vậy thì liệu việc người dân giàu lên theo năm tháng chính là câu trả lời cho cả mục 3.1 và câu hỏi ở mục này?"
   ]
  },
  {
   "cell_type": "markdown",
   "metadata": {},
   "source": [
    "Đó cũng là một lý do hợp lý về mặt tổng quan, khi đa số quốc gia có corr giữa gdp đầu người và thời gian là dương. Tuy nhiên, ta không thể chắc rằng gdp và tỉ lệ tự sát có quan hệ nghịch biến với nhau, khi mà vẫn có một số trường hợp như Mexico, Brazil, Hàn Quốc và Mỹ như ta đã trực quan ở mục 3.4."
   ]
  },
  {
   "cell_type": "code",
   "execution_count": 47,
   "metadata": {},
   "outputs": [
    {
     "data": {
      "text/plain": [
       "0.996907749758773"
      ]
     },
     "execution_count": 47,
     "metadata": {},
     "output_type": "execute_result"
    }
   ],
   "source": [
    "gdp_corr.loc['United States']"
   ]
  },
  {
   "cell_type": "markdown",
   "metadata": {},
   "source": [
    "Thậm chí Mỹ còn là quốc gia phát triển bậc nhất thế giới, và như đã tính ở trên gdp đầu người của Mỹ cũng tăng theo từng năm. Tuy nhiên, tỉ lệ tự sát của Mỹ vẫn tăng. Vậy thì những vấn đề về kinh tế chỉ là lý do một phần và tùy thuộc vào từng quốc gia khác nhau."
   ]
  },
  {
   "cell_type": "markdown",
   "metadata": {},
   "source": [
    "### Trả lời câu hỏi"
   ]
  },
  {
   "cell_type": "markdown",
   "metadata": {},
   "source": [
    "Trở lại với câu hỏi chính của mục này: \"Các nước giàu thì có tỉ lệ tự sát có ít hay không?\", thì từ kết quả ở mục 3.5.1 thì ta thấy rằng Mỹ, Hàn Quốc là những quốc gia rất phát triển, nhưng vẫn có tỉ lệ tự sát cao và tăng theo từng năm. Vì thế ta có thể thay đổi câu hỏi thành: \"Mối quan hệ giữa GDP đầu người và tỉ lệ tự sát\""
   ]
  },
  {
   "cell_type": "markdown",
   "metadata": {},
   "source": [
    "Để trả lời câu hỏi này ta thực hiện những bước sau:\n",
    "- Bước 1: Tính tỉ lệ tự sát (theo quốc gia) và trung bình gdp đầu người của quốc gia đó lưu vào một dataframe gdp_by_continent gồm 3 cột: continent, suicide rate và gdp per capita\n",
    "- Bước 2: Trực quan hóa dữ liệu bằng scatter plot, với trục x là gdp, trục y là suicide rate và legend là các châu lục"
   ]
  },
  {
   "cell_type": "markdown",
   "metadata": {},
   "source": [
    "#### Bước 1"
   ]
  },
  {
   "cell_type": "code",
   "execution_count": 68,
   "metadata": {},
   "outputs": [
    {
     "data": {
      "text/html": [
       "<div>\n",
       "<style scoped>\n",
       "    .dataframe tbody tr th:only-of-type {\n",
       "        vertical-align: middle;\n",
       "    }\n",
       "\n",
       "    .dataframe tbody tr th {\n",
       "        vertical-align: top;\n",
       "    }\n",
       "\n",
       "    .dataframe thead th {\n",
       "        text-align: right;\n",
       "    }\n",
       "</style>\n",
       "<table border=\"1\" class=\"dataframe\">\n",
       "  <thead>\n",
       "    <tr style=\"text-align: right;\">\n",
       "      <th></th>\n",
       "      <th>gdp_per_capita ($)</th>\n",
       "      <th>suicide rate</th>\n",
       "    </tr>\n",
       "    <tr>\n",
       "      <th>country</th>\n",
       "      <th></th>\n",
       "      <th></th>\n",
       "    </tr>\n",
       "  </thead>\n",
       "  <tbody>\n",
       "    <tr>\n",
       "      <td>Albania</td>\n",
       "      <td>1859.045455</td>\n",
       "      <td>3.160827</td>\n",
       "    </tr>\n",
       "    <tr>\n",
       "      <td>Antigua and Barbuda</td>\n",
       "      <td>10448.185185</td>\n",
       "      <td>0.552700</td>\n",
       "    </tr>\n",
       "    <tr>\n",
       "      <td>Argentina</td>\n",
       "      <td>7914.096774</td>\n",
       "      <td>7.936309</td>\n",
       "    </tr>\n",
       "    <tr>\n",
       "      <td>Armenia</td>\n",
       "      <td>1807.458333</td>\n",
       "      <td>2.452362</td>\n",
       "    </tr>\n",
       "    <tr>\n",
       "      <td>Aruba</td>\n",
       "      <td>24221.642857</td>\n",
       "      <td>8.017928</td>\n",
       "    </tr>\n",
       "    <tr>\n",
       "      <td>...</td>\n",
       "      <td>...</td>\n",
       "      <td>...</td>\n",
       "    </tr>\n",
       "    <tr>\n",
       "      <td>United Arab Emirates</td>\n",
       "      <td>42162.000000</td>\n",
       "      <td>1.704003</td>\n",
       "    </tr>\n",
       "    <tr>\n",
       "      <td>United Kingdom</td>\n",
       "      <td>31908.354839</td>\n",
       "      <td>7.867928</td>\n",
       "    </tr>\n",
       "    <tr>\n",
       "      <td>United States</td>\n",
       "      <td>39269.612903</td>\n",
       "      <td>12.838459</td>\n",
       "    </tr>\n",
       "    <tr>\n",
       "      <td>Uruguay</td>\n",
       "      <td>7622.071429</td>\n",
       "      <td>15.627650</td>\n",
       "    </tr>\n",
       "    <tr>\n",
       "      <td>Uzbekistan</td>\n",
       "      <td>976.181818</td>\n",
       "      <td>7.154891</td>\n",
       "    </tr>\n",
       "  </tbody>\n",
       "</table>\n",
       "<p>100 rows × 2 columns</p>\n",
       "</div>"
      ],
      "text/plain": [
       "                      gdp_per_capita ($)  suicide rate\n",
       "country                                               \n",
       "Albania                      1859.045455      3.160827\n",
       "Antigua and Barbuda         10448.185185      0.552700\n",
       "Argentina                    7914.096774      7.936309\n",
       "Armenia                      1807.458333      2.452362\n",
       "Aruba                       24221.642857      8.017928\n",
       "...                                  ...           ...\n",
       "United Arab Emirates        42162.000000      1.704003\n",
       "United Kingdom              31908.354839      7.867928\n",
       "United States               39269.612903     12.838459\n",
       "Uruguay                      7622.071429     15.627650\n",
       "Uzbekistan                    976.181818      7.154891\n",
       "\n",
       "[100 rows x 2 columns]"
      ]
     },
     "execution_count": 68,
     "metadata": {},
     "output_type": "execute_result"
    }
   ],
   "source": [
    "\n",
    "# Tính suicide rate và gdp đầu người theo từng quốc gia\n",
    "gdp_by_country = data.groupby('country').agg({'suicides_no':np.sum, 'population':np.sum, 'gdp_per_capita ($)':np.mean})\n",
    "gdp_by_country['suicide rate'] = gdp_by_country['suicides_no'] * 10**5 / gdp_by_country['population']\n",
    "gdp_by_country.drop(['suicides_no', 'population'], axis=1, inplace=True)\n",
    "gdp_by_country"
   ]
  },
  {
   "cell_type": "code",
   "execution_count": 72,
   "metadata": {},
   "outputs": [
    {
     "data": {
      "text/html": [
       "<div>\n",
       "<style scoped>\n",
       "    .dataframe tbody tr th:only-of-type {\n",
       "        vertical-align: middle;\n",
       "    }\n",
       "\n",
       "    .dataframe tbody tr th {\n",
       "        vertical-align: top;\n",
       "    }\n",
       "\n",
       "    .dataframe thead th {\n",
       "        text-align: right;\n",
       "    }\n",
       "</style>\n",
       "<table border=\"1\" class=\"dataframe\">\n",
       "  <thead>\n",
       "    <tr style=\"text-align: right;\">\n",
       "      <th></th>\n",
       "      <th>gdp_per_capita ($)</th>\n",
       "      <th>suicide rate</th>\n",
       "      <th>continent</th>\n",
       "    </tr>\n",
       "    <tr>\n",
       "      <th>country</th>\n",
       "      <th></th>\n",
       "      <th></th>\n",
       "      <th></th>\n",
       "    </tr>\n",
       "  </thead>\n",
       "  <tbody>\n",
       "    <tr>\n",
       "      <td>Albania</td>\n",
       "      <td>1859.045455</td>\n",
       "      <td>3.160827</td>\n",
       "      <td>Europe</td>\n",
       "    </tr>\n",
       "    <tr>\n",
       "      <td>Antigua and Barbuda</td>\n",
       "      <td>10448.185185</td>\n",
       "      <td>0.552700</td>\n",
       "      <td>Americas</td>\n",
       "    </tr>\n",
       "    <tr>\n",
       "      <td>Argentina</td>\n",
       "      <td>7914.096774</td>\n",
       "      <td>7.936309</td>\n",
       "      <td>Americas</td>\n",
       "    </tr>\n",
       "    <tr>\n",
       "      <td>Armenia</td>\n",
       "      <td>1807.458333</td>\n",
       "      <td>2.452362</td>\n",
       "      <td>Asia</td>\n",
       "    </tr>\n",
       "    <tr>\n",
       "      <td>Aruba</td>\n",
       "      <td>24221.642857</td>\n",
       "      <td>8.017928</td>\n",
       "      <td>Americas</td>\n",
       "    </tr>\n",
       "    <tr>\n",
       "      <td>...</td>\n",
       "      <td>...</td>\n",
       "      <td>...</td>\n",
       "      <td>...</td>\n",
       "    </tr>\n",
       "    <tr>\n",
       "      <td>United Arab Emirates</td>\n",
       "      <td>42162.000000</td>\n",
       "      <td>1.704003</td>\n",
       "      <td>Asia</td>\n",
       "    </tr>\n",
       "    <tr>\n",
       "      <td>United Kingdom</td>\n",
       "      <td>31908.354839</td>\n",
       "      <td>7.867928</td>\n",
       "      <td>Europe</td>\n",
       "    </tr>\n",
       "    <tr>\n",
       "      <td>United States</td>\n",
       "      <td>39269.612903</td>\n",
       "      <td>12.838459</td>\n",
       "      <td>Americas</td>\n",
       "    </tr>\n",
       "    <tr>\n",
       "      <td>Uruguay</td>\n",
       "      <td>7622.071429</td>\n",
       "      <td>15.627650</td>\n",
       "      <td>Americas</td>\n",
       "    </tr>\n",
       "    <tr>\n",
       "      <td>Uzbekistan</td>\n",
       "      <td>976.181818</td>\n",
       "      <td>7.154891</td>\n",
       "      <td>Asia</td>\n",
       "    </tr>\n",
       "  </tbody>\n",
       "</table>\n",
       "<p>100 rows × 3 columns</p>\n",
       "</div>"
      ],
      "text/plain": [
       "                      gdp_per_capita ($)  suicide rate continent\n",
       "country                                                         \n",
       "Albania                      1859.045455      3.160827    Europe\n",
       "Antigua and Barbuda         10448.185185      0.552700  Americas\n",
       "Argentina                    7914.096774      7.936309  Americas\n",
       "Armenia                      1807.458333      2.452362      Asia\n",
       "Aruba                       24221.642857      8.017928  Americas\n",
       "...                                  ...           ...       ...\n",
       "United Arab Emirates        42162.000000      1.704003      Asia\n",
       "United Kingdom              31908.354839      7.867928    Europe\n",
       "United States               39269.612903     12.838459  Americas\n",
       "Uruguay                      7622.071429     15.627650  Americas\n",
       "Uzbekistan                    976.181818      7.154891      Asia\n",
       "\n",
       "[100 rows x 3 columns]"
      ]
     },
     "execution_count": 72,
     "metadata": {},
     "output_type": "execute_result"
    }
   ],
   "source": [
    "# Ghép thêm cột continent\n",
    "tmp = data.loc[:, ['country', 'continent']].drop_duplicates().set_index('country')\n",
    "gdp_by_country['continent'] = tmp\n",
    "gdp_by_country"
   ]
  },
  {
   "cell_type": "markdown",
   "metadata": {},
   "source": [
    "#### Bước 2: Trực quan hóa"
   ]
  },
  {
   "cell_type": "code",
   "execution_count": 88,
   "metadata": {},
   "outputs": [
    {
     "data": {
      "text/plain": [
       "array(['Europe', 'Americas', 'Asia', 'Oceania', 'Africa'], dtype=object)"
      ]
     },
     "execution_count": 88,
     "metadata": {},
     "output_type": "execute_result"
    }
   ],
   "source": [
    "continent = gdp_by_country.continent.unique()\n",
    "continent"
   ]
  },
  {
   "cell_type": "code",
   "execution_count": 112,
   "metadata": {},
   "outputs": [
    {
     "data": {
      "image/png": "[encoded data removed]",
      "text/plain": [
       "<Figure size 720x576 with 1 Axes>"
      ]
     },
     "metadata": {
      "needs_background": "light"
     },
     "output_type": "display_data"
    }
   ],
   "source": [
    "plt.rcParams[\"figure.figsize\"] = (10, 8)\n",
    "\n",
    "continent = gdp_by_country.continent.unique()\n",
    "colormap = cm.inferno\n",
    "color = ['blue', 'purple', 'yellow', 'green', 'black']\n",
    "\n",
    "\n",
    "fig, ax = plt.subplots()\n",
    "\n",
    "for var, c in zip(continent, color):\n",
    "    idx = gdp_by_country.continent == var\n",
    "    x = gdp_by_country['gdp_per_capita ($)'][idx]\n",
    "    y = gdp_by_country['suicide rate'][idx]\n",
    "    ax.scatter(x, y, label=var, s=50, color=c, alpha=0.6)\n",
    "    ax.set_xlabel('GDP per capita')\n",
    "    ax.set_ylabel('Suicides per 100K')\n",
    "    ax.legend();"
   ]
  },
  {
   "cell_type": "markdown",
   "metadata": {},
   "source": [
    "### Nhận xét"
   ]
  },
  {
   "cell_type": "markdown",
   "metadata": {},
   "source": [
    "- Từ biểu đồ scatter plot thể hiện mối quan hệ giữa gdp đầu người và tỉ lệ tự sát, ta thấy rằng về mặt tổng thể thì không có bất cứ mỗi quan hệ nào giữa hai đại lượng này.\n",
    "- Tuy nhiên, như những gì đã nhận định từ trước, những vấn đề về kinh tế ảnh hưởng đến tỉ lệ tự sát còn phụ thuộc vào từng quốc gia khác nhau. Cụ thể từ biểu đồ, với các điểm đại diện cho các quốc gia châu Âu, nếu ta chỉ xét các quốc gia có tỉ lệ tự sát cao > 15 thì đúng là có biểu hiện gdp càng tăng thì tỉ lệ tự sát càng giảm."
   ]
  },
  {
   "cell_type": "markdown",
   "metadata": {},
   "source": [
    "# Nhìn lại quá trình làm đồ án"
   ]
  },
  {
   "cell_type": "markdown",
   "metadata": {},
   "source": [
    "## Khó khăn"
   ]
  },
  {
   "cell_type": "markdown",
   "metadata": {},
   "source": [
    "Những khó khăn mà em gặp phải trong quá trình làm đồ án chính là:\n",
    "- Mất nhiều thời gian để tìm kiếm dữ liệu: Việc lựa chọn dữ liệu để làm cũng tốn khá nhiều thời gian của em, theo em thì dữ liệu thì không nên quá lớn (vài gb) hoặc quá nhỏ (2-3 cột, vài dòng dữ liệu). Dữ liệu sao cho phù hợp với kiến thức của bản thân để em có thể hiểu được dữ liệu và đưa ra câu hỏi.\n",
    "- Giải thích ý nghĩa của biểu đồ: Ví dụ như tỉ lệ tự sát của người già, đàn ông, các quốc gia Đông Âu cao, em đã phải đọc thêm các kiến thức tâm lý ngoài lề để giải thích cho những điều này. "
   ]
  },
  {
   "cell_type": "markdown",
   "metadata": {},
   "source": [
    "## Những gì đã học được"
   ]
  },
  {
   "cell_type": "markdown",
   "metadata": {},
   "source": [
    "Thông qua đồ án này thì em đã học được vài thứ mà em thấy khá là hữu ích:\n",
    "- Cách tổ chức một notebook một cách hệ thống: Vì trong đồ án này em cảm thấy phần notebook này cũng khá dài, nếu như không có những câu hỏi trong hướng dẫn đồ án của thầy thì khó lòng nào em tự biết cách tổ chức các ý cho rõ ràng, mạch lạc. Tuy rằng notebook này có những chỗ không được tổ chức quá tốt, như mục 3 đưa ra câu hỏi để trả lời. Nếu có thời gian em sẽ cố gắng cải thiện cách tổ chức ý của phần này.\n",
    "- Học được quy trình đầy đủ cách giải quyết một bài toán trong Khoa học dữ liệu: Qua đồ án này em đã được trải nghiệm quy trình Khoa học dữ liệu từ gần như từ đầu tới cuối, từ bước tìm dữ liệu, tiền xử lý, khám phá dữ liệu, tự mình đặt ra câu hỏi để tìm ra những insight. Đồng thời qua đồ án này cũng giúp em rèn luyện mindset rất nhiều, không quá vội vàng đưa ra một câu trả lời nếu như chưa có xem xét một cách khách quan và trên nhiều khía cạnh. "
   ]
  },
  {
   "cell_type": "markdown",
   "metadata": {},
   "source": [
    "## Nếu có thêm thời gian thì làm gì?"
   ]
  },
  {
   "cell_type": "markdown",
   "metadata": {},
   "source": [
    "Nếu em có thêm thời gian thì em sẽ cố gắng đặt thêm câu hỏi để trả lời, cụ thể những câu hỏi liên quan đến cột Generation trong dữ liệu (trong đồ án này em chưa kịp đề cập đến dữ liệu này). Đồng thời làm những câu trả lời được cụ thể, chi tiết và sâu hơn (các câu trả lời của em trong đồ án chủ yếu mang tính tổng quát). Ví dụ: Trong mục 3.5 có thể trả lời sâu hơn bằng cách trả lời thêm câu hỏi là: \"Các quốc gia có gdp đầu người giảm dần thì tỉ lệ tự sát có tăng không?\". Hay là quan sát tỉ lệ tự sát của các nước Đông Âu trong giai đoạn kể từ khi Liên Xô tan rã để xác minh liệu rằng yếu tố kinh tế, chính trị có làm ảnh hưởng đến tỉ lệ tự sát hay không?...."
   ]
  },
  {
   "cell_type": "markdown",
   "metadata": {},
   "source": [
    "# Tài liệu tham khảo"
   ]
  },
  {
   "cell_type": "markdown",
   "metadata": {},
   "source": [
    "https://www.kaggle.com/lmorgan95/r-suicide-rates-in-depth-stats-insights\n",
    "https://stackoverflow.com/questions/16150819/common-xlabel-ylabel-for-matplotlib-subplots/53172335\n"
   ]
  }
 ],
 "metadata": {
  "kernelspec": {
   "display_name": "Python 3",
   "language": "python",
   "name": "python3"
  },
  "language_info": {
   "codemirror_mode": {
    "name": "ipython",
    "version": 3
   },
   "file_extension": ".py",
   "mimetype": "text/x-python",
   "name": "python",
   "nbconvert_exporter": "python",
   "pygments_lexer": "ipython3",
   "version": "3.7.3"
  },
  "latex_envs": {
   "LaTeX_envs_menu_present": true,
   "autoclose": true,
   "autocomplete": true,
   "bibliofile": "biblio.bib",
   "cite_by": "apalike",
   "current_citInitial": 1,
   "eqLabelWithNumbers": true,
   "eqNumInitial": 1,
   "hotkeys": {
    "equation": "Ctrl-E",
    "itemize": "Ctrl-I"
   },
   "labels_anchors": false,
   "latex_user_defs": false,
   "report_style_numbering": false,
   "user_envs_cfg": false
  },
  "toc": {
   "base_numbering": 1,
   "nav_menu": {
    "height": "424px",
    "width": "460px"
   },
   "number_sections": true,
   "sideBar": true,
   "skip_h1_title": false,
   "title_cell": "Table of Contents",
   "title_sidebar": "Contents",
   "toc_cell": false,
   "toc_position": {
    "height": "calc(100% - 180px)",
    "left": "10px",
    "top": "150px",
    "width": "259.2px"
   },
   "toc_section_display": true,
   "toc_window_display": true
  }
 },
 "nbformat": 4,
 "nbformat_minor": 4
}
